{
  "nbformat": 4,
  "nbformat_minor": 0,
  "metadata": {
    "colab": {
      "name": "spacy_introduction.ipynb",
      "provenance": [],
      "authorship_tag": "ABX9TyNkYLwIaUE+Luyu6pLxExoN",
      "include_colab_link": true
    },
    "kernelspec": {
      "name": "python3",
      "display_name": "Python 3"
    },
    "language_info": {
      "name": "python"
    }
  },
  "cells": [
    {
      "cell_type": "markdown",
      "metadata": {
        "id": "view-in-github",
        "colab_type": "text"
      },
      "source": [
        "<a href=\"https://colab.research.google.com/github/sowmyarajesh/ML-NLP/blob/main/spacy_introduction.ipynb\" target=\"_parent\"><img src=\"https://colab.research.google.com/assets/colab-badge.svg\" alt=\"Open In Colab\"/></a>"
      ]
    },
    {
      "cell_type": "markdown",
      "source": [
        "# Spacy\n",
        "Spacy is a cython based nlp package in python. Spacy has multiple nlp models.\n",
        "For this example, we will load the 'en_core-web_sm' model. "
      ],
      "metadata": {
        "id": "00a-D0mIVlZh"
      }
    },
    {
      "cell_type": "code",
      "execution_count": 15,
      "metadata": {
        "id": "qjFsawY_RI-2"
      },
      "outputs": [],
      "source": [
        "import spacy\n",
        "nlp = spacy.load('en_core_web_sm')"
      ]
    },
    {
      "cell_type": "markdown",
      "source": [
        "Each string/ sentence is stored as document."
      ],
      "metadata": {
        "id": "UVvZkbqsVe-7"
      }
    },
    {
      "cell_type": "code",
      "source": [
        "doc = nlp(\"Joe Biden is the president of the USA !!\")"
      ],
      "metadata": {
        "id": "7rIbFE9SRNff"
      },
      "execution_count": 21,
      "outputs": []
    },
    {
      "cell_type": "code",
      "source": [
        "# tokenization\n",
        "for token in doc:\n",
        "  print(token.text)"
      ],
      "metadata": {
        "colab": {
          "base_uri": "https://localhost:8080/"
        },
        "id": "AcCAK-s_WLpW",
        "outputId": "ff2f1e85-142c-47f5-b990-42502627f259"
      },
      "execution_count": 22,
      "outputs": [
        {
          "output_type": "stream",
          "name": "stdout",
          "text": [
            "Joe\n",
            "Biden\n",
            "is\n",
            "the\n",
            "president\n",
            "of\n",
            "the\n",
            "USA\n",
            "!\n",
            "!\n"
          ]
        }
      ]
    },
    {
      "cell_type": "code",
      "source": [
        "# get the 3rd token\n",
        "print(doc[2])\n"
      ],
      "metadata": {
        "colab": {
          "base_uri": "https://localhost:8080/"
        },
        "id": "6dsVsF-_WTLu",
        "outputId": "b617dd61-32da-489d-9ace-93b4931bce1d"
      },
      "execution_count": 23,
      "outputs": [
        {
          "output_type": "stream",
          "name": "stdout",
          "text": [
            "is\n"
          ]
        }
      ]
    },
    {
      "cell_type": "code",
      "source": [
        "# get the tokens between 2 -5 index\n",
        "print(doc[2:5])"
      ],
      "metadata": {
        "colab": {
          "base_uri": "https://localhost:8080/"
        },
        "id": "cTLYbMtvWivV",
        "outputId": "2c405ef5-5e2d-481a-9a84-0f5d6bd3e339"
      },
      "execution_count": 24,
      "outputs": [
        {
          "output_type": "stream",
          "name": "stdout",
          "text": [
            "is the president\n"
          ]
        }
      ]
    },
    {
      "cell_type": "code",
      "source": [
        "# pos tagging:\n",
        "for token in doc:\n",
        "  print(token.i, token.text, token.pos)"
      ],
      "metadata": {
        "colab": {
          "base_uri": "https://localhost:8080/"
        },
        "id": "V8OU1vQzWqDE",
        "outputId": "fc53b26b-cc5a-435e-f313-3c062f762a07"
      },
      "execution_count": 25,
      "outputs": [
        {
          "output_type": "stream",
          "name": "stdout",
          "text": [
            "0 Joe 96\n",
            "1 Biden 96\n",
            "2 is 87\n",
            "3 the 90\n",
            "4 president 92\n",
            "5 of 85\n",
            "6 the 90\n",
            "7 USA 96\n",
            "8 ! 97\n",
            "9 ! 97\n"
          ]
        }
      ]
    },
    {
      "cell_type": "code",
      "source": [
        "#ent\n",
        "print(doc.ents)\n",
        "for e in doc.ents:\n",
        "  print(e.text, e.label_)"
      ],
      "metadata": {
        "colab": {
          "base_uri": "https://localhost:8080/"
        },
        "id": "xeRN9ZTPzLKr",
        "outputId": "5faed511-9f5c-4005-a65a-b44a33016988"
      },
      "execution_count": 27,
      "outputs": [
        {
          "output_type": "stream",
          "name": "stdout",
          "text": [
            "(Joe Biden, USA)\n",
            "Joe Biden PERSON\n",
            "USA GPE\n"
          ]
        }
      ]
    },
    {
      "cell_type": "code",
      "source": [
        "# Matcher\n",
        "from spacy.matcher import Matcher\n",
        "doc = nlp(\"Rakesh will be vacating the New Jersey home and move to Connecticut today\")\n",
        "patrn = [{'LEMMA': 'vacate'},{'ORTH':'the'}]\n",
        "matcher = Matcher(nlp.vocab)\n",
        "matcher.add('the_pattern',[patrn])\n",
        "matches = matcher(doc)\n",
        "print(matches)\n",
        "for id, s,e in matches:\n",
        "  ms = doc[s:e]\n",
        "  print(ms.text)"
      ],
      "metadata": {
        "colab": {
          "base_uri": "https://localhost:8080/"
        },
        "id": "X6x0ZtOkzbtU",
        "outputId": "902ef86a-92a0-494c-d6da-e4249f6fe82f"
      },
      "execution_count": 47,
      "outputs": [
        {
          "output_type": "stream",
          "name": "stdout",
          "text": [
            "[(15514818031579260830, 3, 5)]\n",
            "vacating the\n"
          ]
        }
      ]
    },
    {
      "cell_type": "code",
      "source": [
        ""
      ],
      "metadata": {
        "id": "R1JE_Rh00q0_"
      },
      "execution_count": null,
      "outputs": []
    }
  ]
}