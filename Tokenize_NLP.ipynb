{
  "nbformat": 4,
  "nbformat_minor": 0,
  "metadata": {
    "colab": {
      "name": "Tokenize_NLP.ipynb",
      "provenance": [],
      "authorship_tag": "ABX9TyNGiEp3sia+4adZfLy9ZTpY",
      "include_colab_link": true
    },
    "kernelspec": {
      "name": "python3",
      "display_name": "Python 3"
    },
    "language_info": {
      "name": "python"
    }
  },
  "cells": [
    {
      "cell_type": "markdown",
      "metadata": {
        "id": "view-in-github",
        "colab_type": "text"
      },
      "source": [
        "<a href=\"https://colab.research.google.com/github/sowmyarajesh/ML-NLP/blob/main/Tokenize_NLP.ipynb\" target=\"_parent\"><img src=\"https://colab.research.google.com/assets/colab-badge.svg\" alt=\"Open In Colab\"/></a>"
      ]
    },
    {
      "cell_type": "code",
      "execution_count": 5,
      "metadata": {
        "colab": {
          "base_uri": "https://localhost:8080/"
        },
        "id": "WB1aQa-EEQG2",
        "outputId": "922af9fb-415d-4dc0-efee-999dd51751e7"
      },
      "outputs": [
        {
          "output_type": "stream",
          "name": "stderr",
          "text": [
            "[nltk_data] Downloading package punkt to /root/nltk_data...\n",
            "[nltk_data]   Unzipping tokenizers/punkt.zip.\n",
            "[nltk_data] Downloading package stopwords to /root/nltk_data...\n",
            "[nltk_data]   Unzipping corpora/stopwords.zip.\n",
            "[nltk_data] Error loading corpus: Package 'corpus' not found in index\n"
          ]
        },
        {
          "output_type": "execute_result",
          "data": {
            "text/plain": [
              "False"
            ]
          },
          "metadata": {},
          "execution_count": 5
        }
      ],
      "source": [
        "import nltk\n",
        "import nltk.corpus\n",
        "from nltk.tokenize import word_tokenize\n",
        "'''\n",
        "punkt is a nltk library tool for tokenizing text documents. \n",
        "When we use an old or a degraded version of nltk module we generally need to download the remaining data .\n",
        "'''\n",
        "nltk.download('punkt')\n",
        "nltk.download('stopwords')\n",
        "nltk.download('corpus')"
      ]
    },
    {
      "cell_type": "code",
      "source": [
        "sampleString = \"Mr. [**Known lastname 3234**] is a 36 year old gentleman with a PMH signifciant with dilated cardiomyopathy s/p AICD, asthma, and HTN admitted to an OSH with dyspnea now admitted to the MICU after PEA arrest x2.\"\n",
        "sample_tokens = word_tokenize(sampleString)\n",
        "sample_tokens\n"
      ],
      "metadata": {
        "colab": {
          "base_uri": "https://localhost:8080/"
        },
        "id": "4kJTZLgxGaSg",
        "outputId": "ee8dd5e0-ee17-4a5b-88f2-b6ea1df47c23"
      },
      "execution_count": 6,
      "outputs": [
        {
          "output_type": "execute_result",
          "data": {
            "text/plain": [
              "['Mr.',\n",
              " '[',\n",
              " '*',\n",
              " '*',\n",
              " 'Known',\n",
              " 'lastname',\n",
              " '3234',\n",
              " '*',\n",
              " '*',\n",
              " ']',\n",
              " 'is',\n",
              " 'a',\n",
              " '36',\n",
              " 'year',\n",
              " 'old',\n",
              " 'gentleman',\n",
              " 'with',\n",
              " 'a',\n",
              " 'PMH',\n",
              " 'signifciant',\n",
              " 'with',\n",
              " 'dilated',\n",
              " 'cardiomyopathy',\n",
              " 's/p',\n",
              " 'AICD',\n",
              " ',',\n",
              " 'asthma',\n",
              " ',',\n",
              " 'and',\n",
              " 'HTN',\n",
              " 'admitted',\n",
              " 'to',\n",
              " 'an',\n",
              " 'OSH',\n",
              " 'with',\n",
              " 'dyspnea',\n",
              " 'now',\n",
              " 'admitted',\n",
              " 'to',\n",
              " 'the',\n",
              " 'MICU',\n",
              " 'after',\n",
              " 'PEA',\n",
              " 'arrest',\n",
              " 'x2',\n",
              " '.']"
            ]
          },
          "metadata": {},
          "execution_count": 6
        }
      ]
    },
    {
      "cell_type": "code",
      "source": [
        "type(sample_tokens), len(sample_tokens)"
      ],
      "metadata": {
        "colab": {
          "base_uri": "https://localhost:8080/"
        },
        "id": "uBowGgycG2bs",
        "outputId": "76ab2cd9-0c7b-4d93-8e46-0db4284b8239"
      },
      "execution_count": 7,
      "outputs": [
        {
          "output_type": "execute_result",
          "data": {
            "text/plain": [
              "(list, 46)"
            ]
          },
          "metadata": {},
          "execution_count": 7
        }
      ]
    },
    {
      "cell_type": "code",
      "source": [
        "# frequency of tokens\n",
        "from nltk.probability import FreqDist\n",
        "fdist = FreqDist()\n",
        "for i in sample_tokens:\n",
        "  fdist[i] = fdist[i]+1\n",
        "\n",
        "fdist"
      ],
      "metadata": {
        "colab": {
          "base_uri": "https://localhost:8080/"
        },
        "id": "ynJ5TlPrHqH_",
        "outputId": "e076d246-4710-4f66-bfc2-cb4505d31592"
      },
      "execution_count": 8,
      "outputs": [
        {
          "output_type": "execute_result",
          "data": {
            "text/plain": [
              "FreqDist({'*': 4,\n",
              "          ',': 2,\n",
              "          '.': 1,\n",
              "          '3234': 1,\n",
              "          '36': 1,\n",
              "          'AICD': 1,\n",
              "          'HTN': 1,\n",
              "          'Known': 1,\n",
              "          'MICU': 1,\n",
              "          'Mr.': 1,\n",
              "          'OSH': 1,\n",
              "          'PEA': 1,\n",
              "          'PMH': 1,\n",
              "          '[': 1,\n",
              "          ']': 1,\n",
              "          'a': 2,\n",
              "          'admitted': 2,\n",
              "          'after': 1,\n",
              "          'an': 1,\n",
              "          'and': 1,\n",
              "          'arrest': 1,\n",
              "          'asthma': 1,\n",
              "          'cardiomyopathy': 1,\n",
              "          'dilated': 1,\n",
              "          'dyspnea': 1,\n",
              "          'gentleman': 1,\n",
              "          'is': 1,\n",
              "          'lastname': 1,\n",
              "          'now': 1,\n",
              "          'old': 1,\n",
              "          's/p': 1,\n",
              "          'signifciant': 1,\n",
              "          'the': 1,\n",
              "          'to': 2,\n",
              "          'with': 3,\n",
              "          'x2': 1,\n",
              "          'year': 1})"
            ]
          },
          "metadata": {},
          "execution_count": 8
        }
      ]
    },
    {
      "cell_type": "code",
      "source": [
        "# get the top 10  words\n",
        "top_10_words = fdist.most_common(10)\n",
        "top_10_words"
      ],
      "metadata": {
        "colab": {
          "base_uri": "https://localhost:8080/"
        },
        "id": "kl2TDA5TIAOs",
        "outputId": "4e5b0042-e9bb-4803-9a5e-217cae6b3fc9"
      },
      "execution_count": 10,
      "outputs": [
        {
          "output_type": "execute_result",
          "data": {
            "text/plain": [
              "[('*', 4),\n",
              " ('with', 3),\n",
              " ('a', 2),\n",
              " (',', 2),\n",
              " ('admitted', 2),\n",
              " ('to', 2),\n",
              " ('Mr.', 1),\n",
              " ('[', 1),\n",
              " ('Known', 1),\n",
              " ('lastname', 1)]"
            ]
          },
          "metadata": {},
          "execution_count": 10
        }
      ]
    },
    {
      "cell_type": "markdown",
      "source": [
        "Bi-grams"
      ],
      "metadata": {
        "id": "nsiHuHc1JaFO"
      }
    },
    {
      "cell_type": "code",
      "source": [
        "list(nltk.bigrams(sample_tokens)) "
      ],
      "metadata": {
        "colab": {
          "base_uri": "https://localhost:8080/"
        },
        "id": "5-Umu33XIL1q",
        "outputId": "bf2416d5-d9f4-4c96-befe-a3ed9ff47042"
      },
      "execution_count": 11,
      "outputs": [
        {
          "output_type": "execute_result",
          "data": {
            "text/plain": [
              "[('Mr.', '['),\n",
              " ('[', '*'),\n",
              " ('*', '*'),\n",
              " ('*', 'Known'),\n",
              " ('Known', 'lastname'),\n",
              " ('lastname', '3234'),\n",
              " ('3234', '*'),\n",
              " ('*', '*'),\n",
              " ('*', ']'),\n",
              " (']', 'is'),\n",
              " ('is', 'a'),\n",
              " ('a', '36'),\n",
              " ('36', 'year'),\n",
              " ('year', 'old'),\n",
              " ('old', 'gentleman'),\n",
              " ('gentleman', 'with'),\n",
              " ('with', 'a'),\n",
              " ('a', 'PMH'),\n",
              " ('PMH', 'signifciant'),\n",
              " ('signifciant', 'with'),\n",
              " ('with', 'dilated'),\n",
              " ('dilated', 'cardiomyopathy'),\n",
              " ('cardiomyopathy', 's/p'),\n",
              " ('s/p', 'AICD'),\n",
              " ('AICD', ','),\n",
              " (',', 'asthma'),\n",
              " ('asthma', ','),\n",
              " (',', 'and'),\n",
              " ('and', 'HTN'),\n",
              " ('HTN', 'admitted'),\n",
              " ('admitted', 'to'),\n",
              " ('to', 'an'),\n",
              " ('an', 'OSH'),\n",
              " ('OSH', 'with'),\n",
              " ('with', 'dyspnea'),\n",
              " ('dyspnea', 'now'),\n",
              " ('now', 'admitted'),\n",
              " ('admitted', 'to'),\n",
              " ('to', 'the'),\n",
              " ('the', 'MICU'),\n",
              " ('MICU', 'after'),\n",
              " ('after', 'PEA'),\n",
              " ('PEA', 'arrest'),\n",
              " ('arrest', 'x2'),\n",
              " ('x2', '.')]"
            ]
          },
          "metadata": {},
          "execution_count": 11
        }
      ]
    },
    {
      "cell_type": "code",
      "source": [
        "list(nltk.trigrams(sample_tokens))"
      ],
      "metadata": {
        "colab": {
          "base_uri": "https://localhost:8080/"
        },
        "id": "BuY_CmXMJjGC",
        "outputId": "1a72ec23-3b9c-496f-face-aee0923b3c47"
      },
      "execution_count": 13,
      "outputs": [
        {
          "output_type": "execute_result",
          "data": {
            "text/plain": [
              "[('Mr.', '[', '*'),\n",
              " ('[', '*', '*'),\n",
              " ('*', '*', 'Known'),\n",
              " ('*', 'Known', 'lastname'),\n",
              " ('Known', 'lastname', '3234'),\n",
              " ('lastname', '3234', '*'),\n",
              " ('3234', '*', '*'),\n",
              " ('*', '*', ']'),\n",
              " ('*', ']', 'is'),\n",
              " (']', 'is', 'a'),\n",
              " ('is', 'a', '36'),\n",
              " ('a', '36', 'year'),\n",
              " ('36', 'year', 'old'),\n",
              " ('year', 'old', 'gentleman'),\n",
              " ('old', 'gentleman', 'with'),\n",
              " ('gentleman', 'with', 'a'),\n",
              " ('with', 'a', 'PMH'),\n",
              " ('a', 'PMH', 'signifciant'),\n",
              " ('PMH', 'signifciant', 'with'),\n",
              " ('signifciant', 'with', 'dilated'),\n",
              " ('with', 'dilated', 'cardiomyopathy'),\n",
              " ('dilated', 'cardiomyopathy', 's/p'),\n",
              " ('cardiomyopathy', 's/p', 'AICD'),\n",
              " ('s/p', 'AICD', ','),\n",
              " ('AICD', ',', 'asthma'),\n",
              " (',', 'asthma', ','),\n",
              " ('asthma', ',', 'and'),\n",
              " (',', 'and', 'HTN'),\n",
              " ('and', 'HTN', 'admitted'),\n",
              " ('HTN', 'admitted', 'to'),\n",
              " ('admitted', 'to', 'an'),\n",
              " ('to', 'an', 'OSH'),\n",
              " ('an', 'OSH', 'with'),\n",
              " ('OSH', 'with', 'dyspnea'),\n",
              " ('with', 'dyspnea', 'now'),\n",
              " ('dyspnea', 'now', 'admitted'),\n",
              " ('now', 'admitted', 'to'),\n",
              " ('admitted', 'to', 'the'),\n",
              " ('to', 'the', 'MICU'),\n",
              " ('the', 'MICU', 'after'),\n",
              " ('MICU', 'after', 'PEA'),\n",
              " ('after', 'PEA', 'arrest'),\n",
              " ('PEA', 'arrest', 'x2'),\n",
              " ('arrest', 'x2', '.')]"
            ]
          },
          "metadata": {},
          "execution_count": 13
        }
      ]
    },
    {
      "cell_type": "code",
      "source": [
        ""
      ],
      "metadata": {
        "id": "KCbnJcRyJmF_"
      },
      "execution_count": null,
      "outputs": []
    }
  ]
}