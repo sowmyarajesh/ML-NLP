{
  "nbformat": 4,
  "nbformat_minor": 0,
  "metadata": {
    "colab": {
      "name": "NLP-Introduction.ipynb",
      "provenance": [],
      "collapsed_sections": [],
      "authorship_tag": "ABX9TyOQL+dAIuVWweeD5pfZcp05",
      "include_colab_link": true
    },
    "kernelspec": {
      "name": "python3",
      "display_name": "Python 3"
    },
    "language_info": {
      "name": "python"
    }
  },
  "cells": [
    {
      "cell_type": "markdown",
      "metadata": {
        "id": "view-in-github",
        "colab_type": "text"
      },
      "source": [
        "<a href=\"https://colab.research.google.com/github/sowmyarajesh/ML-NLP/blob/main/NLP_EmotionDetection.ipynb\" target=\"_parent\"><img src=\"https://colab.research.google.com/assets/colab-badge.svg\" alt=\"Open In Colab\"/></a>"
      ]
    },
    {
      "cell_type": "code",
      "execution_count": 1,
      "metadata": {
        "id": "EEzfTMYJu3eU"
      },
      "outputs": [],
      "source": [
        "import pandas as pd\n",
        "import numpy as np\n",
        "import tensorflow as tf\n",
        "from tensorflow import keras\n",
        "from tensorflow.keras.preprocessing.text import Tokenizer\n",
        "from tensorflow.keras.preprocessing.sequence import pad_sequences"
      ]
    },
    {
      "cell_type": "markdown",
      "source": [
        "### Dataset\n",
        "\n",
        "Get the original emotions data from https://www.kaggle.com/datasets/praveengovi/emotions-dataset-for-nlp\n",
        "\n",
        "copy of it is provided in the git repo too https://github.com/sowmyarajesh/ML-NLP\n",
        "\n",
        "This dataset has a sentence and its associated emotion name seperated by ;.\n",
        "\n",
        "\n"
      ],
      "metadata": {
        "id": "sdg8m-48Vu92"
      }
    },
    {
      "cell_type": "code",
      "source": [
        "trainData = pd.read_csv('train.txt', sep=';', header=None)\n",
        "valData = pd.read_csv('val.txt', sep=';', header=None)\n",
        "testData = pd.read_csv('test.txt', sep=';', header=None)\n",
        "trainData.columns"
      ],
      "metadata": {
        "colab": {
          "base_uri": "https://localhost:8080/"
        },
        "id": "GrmbobDDcwe3",
        "outputId": "53539001-3ec7-47e8-8126-c05c8a6b3087"
      },
      "execution_count": 3,
      "outputs": [
        {
          "output_type": "execute_result",
          "data": {
            "text/plain": [
              "Int64Index([0, 1], dtype='int64')"
            ]
          },
          "metadata": {},
          "execution_count": 3
        }
      ]
    },
    {
      "cell_type": "code",
      "source": [
        "trainData[1].value_counts()"
      ],
      "metadata": {
        "colab": {
          "base_uri": "https://localhost:8080/"
        },
        "id": "y1JR5aJLtZN8",
        "outputId": "97b93ee4-b2ab-4d21-b838-baed72ff8c29"
      },
      "execution_count": 4,
      "outputs": [
        {
          "output_type": "execute_result",
          "data": {
            "text/plain": [
              "joy         5362\n",
              "sadness     4666\n",
              "anger       2159\n",
              "fear        1937\n",
              "love        1304\n",
              "surprise     572\n",
              "Name: 1, dtype: int64"
            ]
          },
          "metadata": {},
          "execution_count": 4
        }
      ]
    },
    {
      "cell_type": "markdown",
      "source": [
        "###  Preprocessing"
      ],
      "metadata": {
        "id": "kx7XwSigfElD"
      }
    },
    {
      "cell_type": "code",
      "source": [
        "padding_type='post'\n",
        "oov_label =\"<oov>\""
      ],
      "metadata": {
        "id": "CGSzqIavR7z_"
      },
      "execution_count": 5,
      "outputs": []
    },
    {
      "cell_type": "code",
      "source": [
        "tr_sentences = trainData[0].values\n",
        "tr_labels = trainData[1].values\n",
        "\n",
        "val_sentences = valData[0].values\n",
        "val_labels = valData[1].values\n",
        "\n",
        "test_sentences = testData[0].values\n",
        "test_labels = testData[1].values"
      ],
      "metadata": {
        "id": "7yMjPDOSdfJd"
      },
      "execution_count": 6,
      "outputs": []
    },
    {
      "cell_type": "code",
      "source": [
        "# X\n",
        "tokenizerX  = Tokenizer(oov_token=oov_label)\n",
        "tokenizerX.fit_on_texts(tr_sentences)\n",
        "XIndex = tokenizerX.word_index\n",
        "train_seq = tokenizerX.texts_to_sequences(tr_sentences)\n",
        "train_X = np.array(pad_sequences(train_seq,padding=padding_type))\n",
        "\n",
        "print(\"creating X from sentences\")\n",
        "print(\"padded sequence[0] = \",train_X[0])\n",
        "print(\"padded sequence-> X.shape: \",train_X.shape)\n",
        "print(\"Length of input index: \",len(XIndex.keys()))\n",
        "\n",
        "#y\n",
        "tokenizerY  = Tokenizer(oov_token=oov_label)\n",
        "tokenizerY.fit_on_texts(tr_labels)\n",
        "yIndex = tokenizerY.word_index\n",
        "train_y = np.array([y[0] for y in tokenizerY.texts_to_sequences(tr_labels)])\n",
        "print(yIndex)\n",
        "print(train_y[:10])"
      ],
      "metadata": {
        "colab": {
          "base_uri": "https://localhost:8080/"
        },
        "id": "NF_5PdIbfSmA",
        "outputId": "a9282e33-e5b3-4122-8a23-3b456ecf30cb"
      },
      "execution_count": 7,
      "outputs": [
        {
          "output_type": "stream",
          "name": "stdout",
          "text": [
            "creating X from sentences\n",
            "padded sequence[0] =  [  2 139   3 679   0   0   0   0   0   0   0   0   0   0   0   0   0   0\n",
            "   0   0   0   0   0   0   0   0   0   0   0   0   0   0   0   0   0   0\n",
            "   0   0   0   0   0   0   0   0   0   0   0   0   0   0   0   0   0   0\n",
            "   0   0   0   0   0   0   0   0   0   0   0   0]\n",
            "padded sequence-> X.shape:  (16000, 66)\n",
            "Length of input index:  15213\n",
            "{'<oov>': 1, 'joy': 2, 'sadness': 3, 'anger': 4, 'fear': 5, 'love': 6, 'surprise': 7}\n",
            "[3 3 4 6 4 3 7 5 2 6]\n"
          ]
        }
      ]
    },
    {
      "cell_type": "markdown",
      "source": [
        "we have 16000 trainig sequences with 66 tokens. Now convert the text to sequence with the same training tokens for validation and test data"
      ],
      "metadata": {
        "id": "CCLeFZ8Hq4tP"
      }
    },
    {
      "cell_type": "code",
      "source": [
        ""
      ],
      "metadata": {
        "id": "RGGAHKGSUqsO"
      },
      "execution_count": null,
      "outputs": []
    },
    {
      "cell_type": "code",
      "source": [
        "test_seq = tokenizerX.texts_to_sequences(test_sentences)\n",
        "text_X = np.array(pad_sequences(test_seq,padding=padding_type,maxlen=train_X.shape[1],truncating=padding_type))\n",
        "test_y = np.array([y[0] for y in tokenizerY.texts_to_sequences(test_labels)])\n",
        "print(\"Preprocessing for Test data: \")\n",
        "print(text_X[0])\n",
        "print(text_X.shape)\n",
        "test_y[:10]"
      ],
      "metadata": {
        "colab": {
          "base_uri": "https://localhost:8080/"
        },
        "id": "XMpllWR7qkYO",
        "outputId": "1a0b4b79-b5b3-4762-8f9b-6d84e4f65043"
      },
      "execution_count": 8,
      "outputs": [
        {
          "output_type": "stream",
          "name": "stdout",
          "text": [
            "Preprocessing for Test data: \n",
            "[  17    8  203  715   15   17   26   46 5595  114   58    0    0    0\n",
            "    0    0    0    0    0    0    0    0    0    0    0    0    0    0\n",
            "    0    0    0    0    0    0    0    0    0    0    0    0    0    0\n",
            "    0    0    0    0    0    0    0    0    0    0    0    0    0    0\n",
            "    0    0    0    0    0    0    0    0    0    0]\n",
            "(2000, 66)\n"
          ]
        },
        {
          "output_type": "execute_result",
          "data": {
            "text/plain": [
              "array([3, 3, 3, 2, 3, 5, 4, 2, 2, 4])"
            ]
          },
          "metadata": {},
          "execution_count": 8
        }
      ]
    },
    {
      "cell_type": "code",
      "source": [
        "val_seq = tokenizerX.texts_to_sequences(val_sentences)\n",
        "val_X = np.array(pad_sequences(val_seq,padding=padding_type, maxlen=train_X.shape[1],truncating=padding_type))\n",
        "val_y = np.array([y[0] for y in tokenizerY.texts_to_sequences(val_labels)])\n",
        "print(\"Preprocessing Validation Data:\")\n",
        "print(val_X[0])\n",
        "print(val_X.shape)"
      ],
      "metadata": {
        "colab": {
          "base_uri": "https://localhost:8080/"
        },
        "id": "Vs65AZyysNpc",
        "outputId": "28d04bb9-9d04-4e43-ab8e-c4404b8f861d"
      },
      "execution_count": 9,
      "outputs": [
        {
          "output_type": "stream",
          "name": "stdout",
          "text": [
            "Preprocessing Validation Data:\n",
            "[   17     8   157   260     4   343    16    51    19   212 11289    50\n",
            "    10    13   533     0     0     0     0     0     0     0     0     0\n",
            "     0     0     0     0     0     0     0     0     0     0     0     0\n",
            "     0     0     0     0     0     0     0     0     0     0     0     0\n",
            "     0     0     0     0     0     0     0     0     0     0     0     0\n",
            "     0     0     0     0     0     0]\n",
            "(2000, 66)\n"
          ]
        }
      ]
    },
    {
      "cell_type": "markdown",
      "source": [
        "### Training/ validation"
      ],
      "metadata": {
        "id": "YJbyLWhFzLUB"
      }
    },
    {
      "cell_type": "code",
      "source": [
        "vocab_size = len(XIndex.keys())+1\n",
        "embedding_dim = len(yIndex.keys())+1\n",
        "max_length = train_X.shape[1]  # number of columns in the input matrix\n",
        "epochs = 100"
      ],
      "metadata": {
        "id": "vn6dfOsr4cTy"
      },
      "execution_count": 10,
      "outputs": []
    },
    {
      "cell_type": "code",
      "source": [
        "model = tf.keras.Sequential([\n",
        "    tf.keras.layers.Embedding(vocab_size, embedding_dim, input_length=max_length),\n",
        "    tf.keras.layers.GlobalAveragePooling1D(),\n",
        "    tf.keras.layers.Dense(24, activation='relu'),\n",
        "    tf.keras.layers.Dense(8,activation='softmax')\n",
        "])\n",
        "model.compile( optimizer=tf.keras.optimizers.Adam(0.001),\n",
        "    loss=tf.keras.losses.SparseCategoricalCrossentropy(from_logits=True),\n",
        "    metrics=[tf.keras.metrics.SparseCategoricalAccuracy()],)"
      ],
      "metadata": {
        "id": "Lo261ACksrI4"
      },
      "execution_count": 11,
      "outputs": []
    },
    {
      "cell_type": "code",
      "source": [
        "history = model.fit(train_X, train_y, epochs=epochs, validation_data=(val_X, val_y), verbose=2)"
      ],
      "metadata": {
        "colab": {
          "base_uri": "https://localhost:8080/"
        },
        "id": "TyjmS_Hf2No2",
        "outputId": "6530105c-c35b-4d0c-b32f-9e4c1c826914"
      },
      "execution_count": 12,
      "outputs": [
        {
          "output_type": "stream",
          "name": "stderr",
          "text": [
            "/usr/local/lib/python3.7/dist-packages/tensorflow/python/util/dispatch.py:1082: UserWarning: \"`sparse_categorical_crossentropy` received `from_logits=True`, but the `output` argument was produced by a sigmoid or softmax activation and thus does not represent logits. Was this intended?\"\n",
            "  return dispatch_target(*args, **kwargs)\n"
          ]
        },
        {
          "output_type": "stream",
          "name": "stdout",
          "text": [
            "500/500 - 3s - loss: 1.6776 - sparse_categorical_accuracy: 0.3215 - val_loss: 1.5848 - val_sparse_categorical_accuracy: 0.3520 - 3s/epoch - 5ms/step\n",
            "Epoch 2/100\n",
            "500/500 - 1s - loss: 1.5686 - sparse_categorical_accuracy: 0.3446 - val_loss: 1.5706 - val_sparse_categorical_accuracy: 0.3525 - 1s/epoch - 3ms/step\n",
            "Epoch 3/100\n",
            "500/500 - 1s - loss: 1.5482 - sparse_categorical_accuracy: 0.3756 - val_loss: 1.5459 - val_sparse_categorical_accuracy: 0.5030 - 1s/epoch - 3ms/step\n",
            "Epoch 4/100\n",
            "500/500 - 1s - loss: 1.4876 - sparse_categorical_accuracy: 0.5034 - val_loss: 1.4598 - val_sparse_categorical_accuracy: 0.5440 - 1s/epoch - 3ms/step\n",
            "Epoch 5/100\n",
            "500/500 - 1s - loss: 1.3380 - sparse_categorical_accuracy: 0.5815 - val_loss: 1.3037 - val_sparse_categorical_accuracy: 0.5805 - 1s/epoch - 3ms/step\n",
            "Epoch 6/100\n",
            "500/500 - 1s - loss: 1.1329 - sparse_categorical_accuracy: 0.6067 - val_loss: 1.1191 - val_sparse_categorical_accuracy: 0.6135 - 1s/epoch - 3ms/step\n",
            "Epoch 7/100\n",
            "500/500 - 1s - loss: 0.9040 - sparse_categorical_accuracy: 0.6741 - val_loss: 0.9302 - val_sparse_categorical_accuracy: 0.6720 - 1s/epoch - 3ms/step\n",
            "Epoch 8/100\n",
            "500/500 - 1s - loss: 0.7163 - sparse_categorical_accuracy: 0.7682 - val_loss: 0.8014 - val_sparse_categorical_accuracy: 0.7450 - 1s/epoch - 3ms/step\n",
            "Epoch 9/100\n",
            "500/500 - 1s - loss: 0.5883 - sparse_categorical_accuracy: 0.8152 - val_loss: 0.7137 - val_sparse_categorical_accuracy: 0.7635 - 1s/epoch - 3ms/step\n",
            "Epoch 10/100\n",
            "500/500 - 1s - loss: 0.5001 - sparse_categorical_accuracy: 0.8344 - val_loss: 0.6575 - val_sparse_categorical_accuracy: 0.7735 - 1s/epoch - 3ms/step\n",
            "Epoch 11/100\n",
            "500/500 - 1s - loss: 0.4371 - sparse_categorical_accuracy: 0.8471 - val_loss: 0.6186 - val_sparse_categorical_accuracy: 0.7775 - 1s/epoch - 3ms/step\n",
            "Epoch 12/100\n",
            "500/500 - 1s - loss: 0.3876 - sparse_categorical_accuracy: 0.8637 - val_loss: 0.5898 - val_sparse_categorical_accuracy: 0.7930 - 1s/epoch - 3ms/step\n",
            "Epoch 13/100\n",
            "500/500 - 1s - loss: 0.3443 - sparse_categorical_accuracy: 0.8842 - val_loss: 0.5696 - val_sparse_categorical_accuracy: 0.8005 - 1s/epoch - 2ms/step\n",
            "Epoch 14/100\n",
            "500/500 - 1s - loss: 0.3055 - sparse_categorical_accuracy: 0.9059 - val_loss: 0.5555 - val_sparse_categorical_accuracy: 0.8255 - 1s/epoch - 3ms/step\n",
            "Epoch 15/100\n",
            "500/500 - 1s - loss: 0.2709 - sparse_categorical_accuracy: 0.9246 - val_loss: 0.5347 - val_sparse_categorical_accuracy: 0.8325 - 1s/epoch - 3ms/step\n",
            "Epoch 16/100\n",
            "500/500 - 1s - loss: 0.2371 - sparse_categorical_accuracy: 0.9404 - val_loss: 0.5322 - val_sparse_categorical_accuracy: 0.8340 - 1s/epoch - 3ms/step\n",
            "Epoch 17/100\n",
            "500/500 - 1s - loss: 0.2071 - sparse_categorical_accuracy: 0.9511 - val_loss: 0.5169 - val_sparse_categorical_accuracy: 0.8535 - 1s/epoch - 2ms/step\n",
            "Epoch 18/100\n",
            "500/500 - 1s - loss: 0.1807 - sparse_categorical_accuracy: 0.9603 - val_loss: 0.5077 - val_sparse_categorical_accuracy: 0.8540 - 1s/epoch - 2ms/step\n",
            "Epoch 19/100\n",
            "500/500 - 1s - loss: 0.1567 - sparse_categorical_accuracy: 0.9663 - val_loss: 0.5031 - val_sparse_categorical_accuracy: 0.8600 - 1s/epoch - 2ms/step\n",
            "Epoch 20/100\n",
            "500/500 - 1s - loss: 0.1365 - sparse_categorical_accuracy: 0.9707 - val_loss: 0.5016 - val_sparse_categorical_accuracy: 0.8640 - 1s/epoch - 2ms/step\n",
            "Epoch 21/100\n",
            "500/500 - 1s - loss: 0.1203 - sparse_categorical_accuracy: 0.9737 - val_loss: 0.5183 - val_sparse_categorical_accuracy: 0.8565 - 1s/epoch - 2ms/step\n",
            "Epoch 22/100\n",
            "500/500 - 1s - loss: 0.1072 - sparse_categorical_accuracy: 0.9758 - val_loss: 0.5038 - val_sparse_categorical_accuracy: 0.8655 - 1s/epoch - 2ms/step\n",
            "Epoch 23/100\n",
            "500/500 - 1s - loss: 0.0950 - sparse_categorical_accuracy: 0.9783 - val_loss: 0.5095 - val_sparse_categorical_accuracy: 0.8650 - 1s/epoch - 2ms/step\n",
            "Epoch 24/100\n",
            "500/500 - 1s - loss: 0.0853 - sparse_categorical_accuracy: 0.9815 - val_loss: 0.5147 - val_sparse_categorical_accuracy: 0.8685 - 1s/epoch - 2ms/step\n",
            "Epoch 25/100\n",
            "500/500 - 1s - loss: 0.0783 - sparse_categorical_accuracy: 0.9816 - val_loss: 0.5238 - val_sparse_categorical_accuracy: 0.8635 - 1s/epoch - 3ms/step\n",
            "Epoch 26/100\n",
            "500/500 - 1s - loss: 0.0719 - sparse_categorical_accuracy: 0.9830 - val_loss: 0.5374 - val_sparse_categorical_accuracy: 0.8625 - 1s/epoch - 2ms/step\n",
            "Epoch 27/100\n",
            "500/500 - 1s - loss: 0.0651 - sparse_categorical_accuracy: 0.9843 - val_loss: 0.5556 - val_sparse_categorical_accuracy: 0.8615 - 1s/epoch - 2ms/step\n",
            "Epoch 28/100\n",
            "500/500 - 1s - loss: 0.0609 - sparse_categorical_accuracy: 0.9855 - val_loss: 0.5444 - val_sparse_categorical_accuracy: 0.8685 - 1s/epoch - 2ms/step\n",
            "Epoch 29/100\n",
            "500/500 - 1s - loss: 0.0562 - sparse_categorical_accuracy: 0.9864 - val_loss: 0.5573 - val_sparse_categorical_accuracy: 0.8665 - 1s/epoch - 2ms/step\n",
            "Epoch 30/100\n",
            "500/500 - 1s - loss: 0.0517 - sparse_categorical_accuracy: 0.9876 - val_loss: 0.5702 - val_sparse_categorical_accuracy: 0.8645 - 1s/epoch - 2ms/step\n",
            "Epoch 31/100\n",
            "500/500 - 1s - loss: 0.0484 - sparse_categorical_accuracy: 0.9878 - val_loss: 0.5823 - val_sparse_categorical_accuracy: 0.8610 - 1s/epoch - 2ms/step\n",
            "Epoch 32/100\n",
            "500/500 - 1s - loss: 0.0449 - sparse_categorical_accuracy: 0.9894 - val_loss: 0.6003 - val_sparse_categorical_accuracy: 0.8635 - 1s/epoch - 2ms/step\n",
            "Epoch 33/100\n",
            "500/500 - 1s - loss: 0.0421 - sparse_categorical_accuracy: 0.9897 - val_loss: 0.6099 - val_sparse_categorical_accuracy: 0.8650 - 1s/epoch - 2ms/step\n",
            "Epoch 34/100\n",
            "500/500 - 1s - loss: 0.0400 - sparse_categorical_accuracy: 0.9902 - val_loss: 0.6340 - val_sparse_categorical_accuracy: 0.8605 - 1s/epoch - 2ms/step\n",
            "Epoch 35/100\n",
            "500/500 - 1s - loss: 0.0375 - sparse_categorical_accuracy: 0.9903 - val_loss: 0.6471 - val_sparse_categorical_accuracy: 0.8565 - 1s/epoch - 2ms/step\n",
            "Epoch 36/100\n",
            "500/500 - 1s - loss: 0.0350 - sparse_categorical_accuracy: 0.9914 - val_loss: 0.6479 - val_sparse_categorical_accuracy: 0.8610 - 1s/epoch - 2ms/step\n",
            "Epoch 37/100\n",
            "500/500 - 1s - loss: 0.0324 - sparse_categorical_accuracy: 0.9923 - val_loss: 0.6743 - val_sparse_categorical_accuracy: 0.8585 - 1s/epoch - 2ms/step\n",
            "Epoch 38/100\n",
            "500/500 - 1s - loss: 0.0315 - sparse_categorical_accuracy: 0.9919 - val_loss: 0.6719 - val_sparse_categorical_accuracy: 0.8600 - 1s/epoch - 2ms/step\n",
            "Epoch 39/100\n",
            "500/500 - 1s - loss: 0.0292 - sparse_categorical_accuracy: 0.9924 - val_loss: 0.6934 - val_sparse_categorical_accuracy: 0.8550 - 1s/epoch - 2ms/step\n",
            "Epoch 40/100\n",
            "500/500 - 1s - loss: 0.0277 - sparse_categorical_accuracy: 0.9936 - val_loss: 0.7353 - val_sparse_categorical_accuracy: 0.8530 - 1s/epoch - 2ms/step\n",
            "Epoch 41/100\n",
            "500/500 - 1s - loss: 0.0269 - sparse_categorical_accuracy: 0.9927 - val_loss: 0.7278 - val_sparse_categorical_accuracy: 0.8545 - 1s/epoch - 2ms/step\n",
            "Epoch 42/100\n",
            "500/500 - 1s - loss: 0.0255 - sparse_categorical_accuracy: 0.9936 - val_loss: 0.7560 - val_sparse_categorical_accuracy: 0.8495 - 1s/epoch - 2ms/step\n",
            "Epoch 43/100\n",
            "500/500 - 1s - loss: 0.0239 - sparse_categorical_accuracy: 0.9936 - val_loss: 0.7528 - val_sparse_categorical_accuracy: 0.8475 - 1s/epoch - 2ms/step\n",
            "Epoch 44/100\n",
            "500/500 - 1s - loss: 0.0227 - sparse_categorical_accuracy: 0.9931 - val_loss: 0.7863 - val_sparse_categorical_accuracy: 0.8445 - 1s/epoch - 2ms/step\n",
            "Epoch 45/100\n",
            "500/500 - 1s - loss: 0.0213 - sparse_categorical_accuracy: 0.9937 - val_loss: 0.7947 - val_sparse_categorical_accuracy: 0.8450 - 1s/epoch - 2ms/step\n",
            "Epoch 46/100\n",
            "500/500 - 1s - loss: 0.0204 - sparse_categorical_accuracy: 0.9944 - val_loss: 0.8698 - val_sparse_categorical_accuracy: 0.8370 - 1s/epoch - 2ms/step\n",
            "Epoch 47/100\n",
            "500/500 - 1s - loss: 0.0200 - sparse_categorical_accuracy: 0.9940 - val_loss: 0.8294 - val_sparse_categorical_accuracy: 0.8455 - 1s/epoch - 2ms/step\n",
            "Epoch 48/100\n",
            "500/500 - 1s - loss: 0.0196 - sparse_categorical_accuracy: 0.9944 - val_loss: 0.8512 - val_sparse_categorical_accuracy: 0.8455 - 1s/epoch - 3ms/step\n",
            "Epoch 49/100\n",
            "500/500 - 2s - loss: 0.0177 - sparse_categorical_accuracy: 0.9949 - val_loss: 0.8429 - val_sparse_categorical_accuracy: 0.8430 - 2s/epoch - 3ms/step\n",
            "Epoch 50/100\n",
            "500/500 - 2s - loss: 0.0174 - sparse_categorical_accuracy: 0.9944 - val_loss: 0.8826 - val_sparse_categorical_accuracy: 0.8405 - 2s/epoch - 3ms/step\n",
            "Epoch 51/100\n",
            "500/500 - 1s - loss: 0.0163 - sparse_categorical_accuracy: 0.9955 - val_loss: 0.8926 - val_sparse_categorical_accuracy: 0.8425 - 1s/epoch - 3ms/step\n",
            "Epoch 52/100\n",
            "500/500 - 1s - loss: 0.0160 - sparse_categorical_accuracy: 0.9943 - val_loss: 0.8831 - val_sparse_categorical_accuracy: 0.8405 - 1s/epoch - 2ms/step\n",
            "Epoch 53/100\n",
            "500/500 - 1s - loss: 0.0153 - sparse_categorical_accuracy: 0.9954 - val_loss: 1.0112 - val_sparse_categorical_accuracy: 0.8280 - 1s/epoch - 3ms/step\n",
            "Epoch 54/100\n",
            "500/500 - 1s - loss: 0.0148 - sparse_categorical_accuracy: 0.9948 - val_loss: 0.9301 - val_sparse_categorical_accuracy: 0.8385 - 1s/epoch - 3ms/step\n",
            "Epoch 55/100\n",
            "500/500 - 1s - loss: 0.0143 - sparse_categorical_accuracy: 0.9950 - val_loss: 0.9511 - val_sparse_categorical_accuracy: 0.8395 - 1s/epoch - 2ms/step\n",
            "Epoch 56/100\n",
            "500/500 - 1s - loss: 0.0137 - sparse_categorical_accuracy: 0.9957 - val_loss: 0.9796 - val_sparse_categorical_accuracy: 0.8385 - 1s/epoch - 2ms/step\n",
            "Epoch 57/100\n",
            "500/500 - 1s - loss: 0.0134 - sparse_categorical_accuracy: 0.9956 - val_loss: 0.9758 - val_sparse_categorical_accuracy: 0.8380 - 1s/epoch - 3ms/step\n",
            "Epoch 58/100\n",
            "500/500 - 1s - loss: 0.0124 - sparse_categorical_accuracy: 0.9959 - val_loss: 0.9986 - val_sparse_categorical_accuracy: 0.8370 - 1s/epoch - 3ms/step\n",
            "Epoch 59/100\n",
            "500/500 - 2s - loss: 0.0127 - sparse_categorical_accuracy: 0.9959 - val_loss: 1.0199 - val_sparse_categorical_accuracy: 0.8345 - 2s/epoch - 3ms/step\n",
            "Epoch 60/100\n",
            "500/500 - 2s - loss: 0.0124 - sparse_categorical_accuracy: 0.9959 - val_loss: 0.9922 - val_sparse_categorical_accuracy: 0.8315 - 2s/epoch - 3ms/step\n",
            "Epoch 61/100\n",
            "500/500 - 1s - loss: 0.0119 - sparse_categorical_accuracy: 0.9957 - val_loss: 1.0129 - val_sparse_categorical_accuracy: 0.8340 - 1s/epoch - 3ms/step\n",
            "Epoch 62/100\n",
            "500/500 - 1s - loss: 0.0120 - sparse_categorical_accuracy: 0.9959 - val_loss: 1.0392 - val_sparse_categorical_accuracy: 0.8285 - 1s/epoch - 3ms/step\n",
            "Epoch 63/100\n",
            "500/500 - 1s - loss: 0.0115 - sparse_categorical_accuracy: 0.9961 - val_loss: 1.0531 - val_sparse_categorical_accuracy: 0.8310 - 1s/epoch - 3ms/step\n",
            "Epoch 64/100\n",
            "500/500 - 2s - loss: 0.0109 - sparse_categorical_accuracy: 0.9959 - val_loss: 1.1190 - val_sparse_categorical_accuracy: 0.8300 - 2s/epoch - 3ms/step\n",
            "Epoch 65/100\n",
            "500/500 - 1s - loss: 0.0108 - sparse_categorical_accuracy: 0.9962 - val_loss: 1.0698 - val_sparse_categorical_accuracy: 0.8295 - 1s/epoch - 3ms/step\n",
            "Epoch 66/100\n",
            "500/500 - 1s - loss: 0.0105 - sparse_categorical_accuracy: 0.9962 - val_loss: 1.0614 - val_sparse_categorical_accuracy: 0.8235 - 1s/epoch - 2ms/step\n",
            "Epoch 67/100\n",
            "500/500 - 1s - loss: 0.0104 - sparse_categorical_accuracy: 0.9966 - val_loss: 1.1186 - val_sparse_categorical_accuracy: 0.8265 - 1s/epoch - 3ms/step\n",
            "Epoch 68/100\n",
            "500/500 - 2s - loss: 0.0099 - sparse_categorical_accuracy: 0.9963 - val_loss: 1.1456 - val_sparse_categorical_accuracy: 0.8280 - 2s/epoch - 3ms/step\n",
            "Epoch 69/100\n",
            "500/500 - 1s - loss: 0.0104 - sparse_categorical_accuracy: 0.9960 - val_loss: 1.1329 - val_sparse_categorical_accuracy: 0.8225 - 1s/epoch - 3ms/step\n",
            "Epoch 70/100\n",
            "500/500 - 1s - loss: 0.0101 - sparse_categorical_accuracy: 0.9961 - val_loss: 1.1211 - val_sparse_categorical_accuracy: 0.8265 - 1s/epoch - 2ms/step\n",
            "Epoch 71/100\n",
            "500/500 - 1s - loss: 0.0095 - sparse_categorical_accuracy: 0.9963 - val_loss: 1.1668 - val_sparse_categorical_accuracy: 0.8245 - 1s/epoch - 2ms/step\n",
            "Epoch 72/100\n",
            "500/500 - 1s - loss: 0.0092 - sparse_categorical_accuracy: 0.9965 - val_loss: 1.2049 - val_sparse_categorical_accuracy: 0.8255 - 1s/epoch - 3ms/step\n",
            "Epoch 73/100\n",
            "500/500 - 1s - loss: 0.0092 - sparse_categorical_accuracy: 0.9961 - val_loss: 1.1721 - val_sparse_categorical_accuracy: 0.8240 - 1s/epoch - 2ms/step\n",
            "Epoch 74/100\n",
            "500/500 - 1s - loss: 0.0090 - sparse_categorical_accuracy: 0.9965 - val_loss: 1.1942 - val_sparse_categorical_accuracy: 0.8260 - 1s/epoch - 3ms/step\n",
            "Epoch 75/100\n",
            "500/500 - 1s - loss: 0.0088 - sparse_categorical_accuracy: 0.9967 - val_loss: 1.2115 - val_sparse_categorical_accuracy: 0.8225 - 1s/epoch - 2ms/step\n",
            "Epoch 76/100\n",
            "500/500 - 1s - loss: 0.0087 - sparse_categorical_accuracy: 0.9967 - val_loss: 1.2392 - val_sparse_categorical_accuracy: 0.8285 - 1s/epoch - 2ms/step\n",
            "Epoch 77/100\n",
            "500/500 - 1s - loss: 0.0098 - sparse_categorical_accuracy: 0.9959 - val_loss: 1.2142 - val_sparse_categorical_accuracy: 0.8220 - 1s/epoch - 3ms/step\n",
            "Epoch 78/100\n",
            "500/500 - 1s - loss: 0.0082 - sparse_categorical_accuracy: 0.9969 - val_loss: 1.2398 - val_sparse_categorical_accuracy: 0.8215 - 1s/epoch - 2ms/step\n",
            "Epoch 79/100\n",
            "500/500 - 1s - loss: 0.0090 - sparse_categorical_accuracy: 0.9964 - val_loss: 1.2603 - val_sparse_categorical_accuracy: 0.8215 - 1s/epoch - 2ms/step\n",
            "Epoch 80/100\n",
            "500/500 - 1s - loss: 0.0084 - sparse_categorical_accuracy: 0.9964 - val_loss: 1.2558 - val_sparse_categorical_accuracy: 0.8200 - 1s/epoch - 3ms/step\n",
            "Epoch 81/100\n",
            "500/500 - 1s - loss: 0.0078 - sparse_categorical_accuracy: 0.9972 - val_loss: 1.3241 - val_sparse_categorical_accuracy: 0.8180 - 1s/epoch - 2ms/step\n",
            "Epoch 82/100\n",
            "500/500 - 1s - loss: 0.0082 - sparse_categorical_accuracy: 0.9966 - val_loss: 1.2985 - val_sparse_categorical_accuracy: 0.8200 - 1s/epoch - 2ms/step\n",
            "Epoch 83/100\n",
            "500/500 - 1s - loss: 0.0075 - sparse_categorical_accuracy: 0.9969 - val_loss: 1.3218 - val_sparse_categorical_accuracy: 0.8190 - 1s/epoch - 2ms/step\n",
            "Epoch 84/100\n",
            "500/500 - 1s - loss: 0.0084 - sparse_categorical_accuracy: 0.9963 - val_loss: 1.2912 - val_sparse_categorical_accuracy: 0.8210 - 1s/epoch - 2ms/step\n",
            "Epoch 85/100\n",
            "500/500 - 1s - loss: 0.0082 - sparse_categorical_accuracy: 0.9967 - val_loss: 1.2899 - val_sparse_categorical_accuracy: 0.8175 - 1s/epoch - 2ms/step\n",
            "Epoch 86/100\n",
            "500/500 - 1s - loss: 0.0081 - sparse_categorical_accuracy: 0.9964 - val_loss: 1.3524 - val_sparse_categorical_accuracy: 0.8190 - 1s/epoch - 2ms/step\n",
            "Epoch 87/100\n",
            "500/500 - 1s - loss: 0.0082 - sparse_categorical_accuracy: 0.9968 - val_loss: 1.3059 - val_sparse_categorical_accuracy: 0.8155 - 1s/epoch - 2ms/step\n",
            "Epoch 88/100\n",
            "500/500 - 1s - loss: 0.0074 - sparse_categorical_accuracy: 0.9966 - val_loss: 1.3534 - val_sparse_categorical_accuracy: 0.8135 - 1s/epoch - 2ms/step\n",
            "Epoch 89/100\n",
            "500/500 - 1s - loss: 0.0083 - sparse_categorical_accuracy: 0.9963 - val_loss: 1.3424 - val_sparse_categorical_accuracy: 0.8160 - 1s/epoch - 3ms/step\n",
            "Epoch 90/100\n",
            "500/500 - 1s - loss: 0.0082 - sparse_categorical_accuracy: 0.9962 - val_loss: 1.3355 - val_sparse_categorical_accuracy: 0.8130 - 1s/epoch - 3ms/step\n",
            "Epoch 91/100\n",
            "500/500 - 2s - loss: 0.0076 - sparse_categorical_accuracy: 0.9964 - val_loss: 1.3348 - val_sparse_categorical_accuracy: 0.8115 - 2s/epoch - 4ms/step\n",
            "Epoch 92/100\n",
            "500/500 - 1s - loss: 0.0076 - sparse_categorical_accuracy: 0.9964 - val_loss: 1.3675 - val_sparse_categorical_accuracy: 0.8135 - 1s/epoch - 3ms/step\n",
            "Epoch 93/100\n",
            "500/500 - 1s - loss: 0.0076 - sparse_categorical_accuracy: 0.9965 - val_loss: 1.3808 - val_sparse_categorical_accuracy: 0.8165 - 1s/epoch - 3ms/step\n",
            "Epoch 94/100\n",
            "500/500 - 1s - loss: 0.0080 - sparse_categorical_accuracy: 0.9966 - val_loss: 1.4174 - val_sparse_categorical_accuracy: 0.8075 - 1s/epoch - 2ms/step\n",
            "Epoch 95/100\n",
            "500/500 - 1s - loss: 0.0074 - sparse_categorical_accuracy: 0.9969 - val_loss: 1.4060 - val_sparse_categorical_accuracy: 0.8070 - 1s/epoch - 3ms/step\n",
            "Epoch 96/100\n",
            "500/500 - 1s - loss: 0.0074 - sparse_categorical_accuracy: 0.9969 - val_loss: 1.3971 - val_sparse_categorical_accuracy: 0.8155 - 1s/epoch - 3ms/step\n",
            "Epoch 97/100\n",
            "500/500 - 1s - loss: 0.0077 - sparse_categorical_accuracy: 0.9962 - val_loss: 1.4093 - val_sparse_categorical_accuracy: 0.8155 - 1s/epoch - 2ms/step\n",
            "Epoch 98/100\n",
            "500/500 - 1s - loss: 0.0074 - sparse_categorical_accuracy: 0.9964 - val_loss: 1.5553 - val_sparse_categorical_accuracy: 0.8085 - 1s/epoch - 2ms/step\n",
            "Epoch 99/100\n",
            "500/500 - 1s - loss: 0.0068 - sparse_categorical_accuracy: 0.9969 - val_loss: 1.4052 - val_sparse_categorical_accuracy: 0.8135 - 1s/epoch - 2ms/step\n",
            "Epoch 100/100\n",
            "500/500 - 1s - loss: 0.0073 - sparse_categorical_accuracy: 0.9972 - val_loss: 1.4067 - val_sparse_categorical_accuracy: 0.8125 - 1s/epoch - 2ms/step\n"
          ]
        }
      ]
    },
    {
      "cell_type": "code",
      "source": [
        "import matplotlib.pyplot as plt\n",
        "\n",
        "\n",
        "def plot_graphs(history, string):\n",
        "  plt.plot(history.history[string])\n",
        "  plt.plot(history.history['val_'+string])\n",
        "  plt.xlabel(\"Epochs\")\n",
        "  plt.ylabel(string)\n",
        "  plt.legend([string, 'val_'+string])\n",
        "  plt.show()\n",
        "  \n",
        "plot_graphs(history, \"sparse_categorical_accuracy\")\n",
        "plot_graphs(history, \"loss\")"
      ],
      "metadata": {
        "id": "ZUoLHMUBRX5u",
        "colab": {
          "base_uri": "https://localhost:8080/",
          "height": 544
        },
        "outputId": "6e1cb5c5-3c55-4630-d442-7f93fb354b8c"
      },
      "execution_count": 13,
      "outputs": [
        {
          "output_type": "display_data",
          "data": {
            "text/plain": [
              "<Figure size 432x288 with 1 Axes>"
            ],
            "image/png": "[encoded data removed]"
          },
          "metadata": {
            "needs_background": "light"
          }
        },
        {
          "output_type": "display_data",
          "data": {
            "text/plain": [
              "<Figure size 432x288 with 1 Axes>"
            ],
            "image/png": "[encoded data removed]"
          },
          "metadata": {
            "needs_background": "light"
          }
        }
      ]
    },
    {
      "cell_type": "code",
      "source": [
        "reverse_word_index = dict([(value, key) for (key, value) in XIndex.items()])\n",
        "\n",
        "def decode_sentence(text):\n",
        "    return ' '.join([reverse_word_index.get(i, '?') for i in text])\n",
        "\n",
        "print(decode_sentence(train_X[0]))\n",
        "print(tr_sentences[2])\n",
        "print(tr_labels[2])"
      ],
      "metadata": {
        "id": "lO2Ces-3Waq_",
        "outputId": "9ff7cc17-d8e0-4e36-b15e-dce498538534",
        "colab": {
          "base_uri": "https://localhost:8080/"
        }
      },
      "execution_count": 14,
      "outputs": [
        {
          "output_type": "stream",
          "name": "stdout",
          "text": [
            "i didnt feel humiliated ? ? ? ? ? ? ? ? ? ? ? ? ? ? ? ? ? ? ? ? ? ? ? ? ? ? ? ? ? ? ? ? ? ? ? ? ? ? ? ? ? ? ? ? ? ? ? ? ? ? ? ? ? ? ? ? ? ? ? ? ? ?\n",
            "im grabbing a minute to post i feel greedy wrong\n",
            "anger\n"
          ]
        }
      ]
    },
    {
      "cell_type": "code",
      "source": [
        "e = model.layers[0]\n",
        "weights = e.get_weights()[0]\n",
        "print(weights.shape) # shape: (vocab_size, embedding_dim)"
      ],
      "metadata": {
        "id": "F6HG53tZWj07"
      },
      "execution_count": null,
      "outputs": []
    },
    {
      "cell_type": "code",
      "source": [
        "import io\n",
        "\n",
        "out_v = io.open('vecs.tsv', 'w', encoding='utf-8')\n",
        "out_m = io.open('meta.tsv', 'w', encoding='utf-8')\n",
        "for word_num in range(1, vocab_size):\n",
        "  word = reverse_word_index[word_num]\n",
        "  embeddings = weights[word_num]\n",
        "  out_m.write(word + \"\\n\")\n",
        "  out_v.write('\\t'.join([str(x) for x in embeddings]) + \"\\n\")\n",
        "out_v.close()\n",
        "out_m.close()"
      ],
      "metadata": {
        "id": "br04iEtTWpld",
        "outputId": "24c91b5b-6e96-48f6-d7df-5bb2af3be375",
        "colab": {
          "base_uri": "https://localhost:8080/",
          "height": 243
        }
      },
      "execution_count": 15,
      "outputs": [
        {
          "output_type": "error",
          "ename": "NameError",
          "evalue": "ignored",
          "traceback": [
            "\u001b[0;31m---------------------------------------------------------------------------\u001b[0m",
            "\u001b[0;31mNameError\u001b[0m                                 Traceback (most recent call last)",
            "\u001b[0;32m<ipython-input-15-61dde92dd38a>\u001b[0m in \u001b[0;36m<module>\u001b[0;34m()\u001b[0m\n\u001b[1;32m      5\u001b[0m \u001b[0;32mfor\u001b[0m \u001b[0mword_num\u001b[0m \u001b[0;32min\u001b[0m \u001b[0mrange\u001b[0m\u001b[0;34m(\u001b[0m\u001b[0;36m1\u001b[0m\u001b[0;34m,\u001b[0m \u001b[0mvocab_size\u001b[0m\u001b[0;34m)\u001b[0m\u001b[0;34m:\u001b[0m\u001b[0;34m\u001b[0m\u001b[0;34m\u001b[0m\u001b[0m\n\u001b[1;32m      6\u001b[0m   \u001b[0mword\u001b[0m \u001b[0;34m=\u001b[0m \u001b[0mreverse_word_index\u001b[0m\u001b[0;34m[\u001b[0m\u001b[0mword_num\u001b[0m\u001b[0;34m]\u001b[0m\u001b[0;34m\u001b[0m\u001b[0;34m\u001b[0m\u001b[0m\n\u001b[0;32m----> 7\u001b[0;31m   \u001b[0membeddings\u001b[0m \u001b[0;34m=\u001b[0m \u001b[0mweights\u001b[0m\u001b[0;34m[\u001b[0m\u001b[0mword_num\u001b[0m\u001b[0;34m]\u001b[0m\u001b[0;34m\u001b[0m\u001b[0;34m\u001b[0m\u001b[0m\n\u001b[0m\u001b[1;32m      8\u001b[0m   \u001b[0mout_m\u001b[0m\u001b[0;34m.\u001b[0m\u001b[0mwrite\u001b[0m\u001b[0;34m(\u001b[0m\u001b[0mword\u001b[0m \u001b[0;34m+\u001b[0m \u001b[0;34m\"\\n\"\u001b[0m\u001b[0;34m)\u001b[0m\u001b[0;34m\u001b[0m\u001b[0;34m\u001b[0m\u001b[0m\n\u001b[1;32m      9\u001b[0m   \u001b[0mout_v\u001b[0m\u001b[0;34m.\u001b[0m\u001b[0mwrite\u001b[0m\u001b[0;34m(\u001b[0m\u001b[0;34m'\\t'\u001b[0m\u001b[0;34m.\u001b[0m\u001b[0mjoin\u001b[0m\u001b[0;34m(\u001b[0m\u001b[0;34m[\u001b[0m\u001b[0mstr\u001b[0m\u001b[0;34m(\u001b[0m\u001b[0mx\u001b[0m\u001b[0;34m)\u001b[0m \u001b[0;32mfor\u001b[0m \u001b[0mx\u001b[0m \u001b[0;32min\u001b[0m \u001b[0membeddings\u001b[0m\u001b[0;34m]\u001b[0m\u001b[0;34m)\u001b[0m \u001b[0;34m+\u001b[0m \u001b[0;34m\"\\n\"\u001b[0m\u001b[0;34m)\u001b[0m\u001b[0;34m\u001b[0m\u001b[0;34m\u001b[0m\u001b[0m\n",
            "\u001b[0;31mNameError\u001b[0m: name 'weights' is not defined"
          ]
        }
      ]
    },
    {
      "cell_type": "code",
      "source": [
        "try:\n",
        "  from google.colab import files\n",
        "except ImportError:\n",
        "  pass\n",
        "else:\n",
        "  files.download('vecs.tsv')\n",
        "  files.download('meta.tsv')"
      ],
      "metadata": {
        "id": "NRqAO9tyWvcb"
      },
      "execution_count": null,
      "outputs": []
    },
    {
      "cell_type": "code",
      "source": [
        "sentence = [\n",
        "            \"im feeling rather rotten so im not very ambitious right now\", \n",
        "            \"i cant walk into a shop anywhere where i do not feel uncomfortable\"]\n",
        "labels = ['sadness','fear']\n",
        "sequences = tokenizerX.texts_to_sequences(sentence)\n",
        "padded = pad_sequences(sequences, maxlen=max_length, padding=padding_type, truncating=padding_type)\n",
        "predictions = model.predict(padded)\n",
        "pred_y = [np.argmax(p) for p in predictions]\n",
        "print(pred_y)"
      ],
      "metadata": {
        "id": "SwTKOX1_Wwdb",
        "outputId": "c7563eb8-e346-4d7d-fd60-dfbc717b4292",
        "colab": {
          "base_uri": "https://localhost:8080/"
        }
      },
      "execution_count": 16,
      "outputs": [
        {
          "output_type": "stream",
          "name": "stdout",
          "text": [
            "[3, 5]\n"
          ]
        }
      ]
    }
  ]
}