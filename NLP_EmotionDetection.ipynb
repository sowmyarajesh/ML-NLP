{
  "nbformat": 4,
  "nbformat_minor": 0,
  "metadata": {
    "colab": {
      "name": "NLP-Introduction.ipynb",
      "provenance": [],
      "collapsed_sections": [],
      "authorship_tag": "ABX9TyNFkI06jFeIW9iXCaymYZ2L",
      "include_colab_link": true
    },
    "kernelspec": {
      "name": "python3",
      "display_name": "Python 3"
    },
    "language_info": {
      "name": "python"
    }
  },
  "cells": [
    {
      "cell_type": "markdown",
      "metadata": {
        "id": "view-in-github",
        "colab_type": "text"
      },
      "source": [
        "<a href=\"https://colab.research.google.com/github/sowmyarajesh/ML-NLP/blob/main/NLP_EmotionDetection.ipynb\" target=\"_parent\"><img src=\"https://colab.research.google.com/assets/colab-badge.svg\" alt=\"Open In Colab\"/></a>"
      ]
    },
    {
      "cell_type": "code",
      "execution_count": 2,
      "metadata": {
        "id": "EEzfTMYJu3eU"
      },
      "outputs": [],
      "source": [
        "import pandas as pd\n",
        "import numpy as np\n",
        "import tensorflow as tf\n",
        "from tensorflow import keras\n",
        "from tensorflow.keras.preprocessing.text import Tokenizer\n",
        "from tensorflow.keras.preprocessing.sequence import pad_sequences"
      ]
    },
    {
      "cell_type": "markdown",
      "source": [
        "### Dataset\n",
        "\n",
        "Get the original emotions data from https://www.kaggle.com/datasets/praveengovi/emotions-dataset-for-nlp\n",
        "\n",
        "copy of it is provided in the git repo too https://github.com/sowmyarajesh/ML-NLP\n",
        "\n",
        "This dataset has a sentence and its associated emotion name seperated by ;.\n",
        "\n",
        "\n"
      ],
      "metadata": {
        "id": "sdg8m-48Vu92"
      }
    },
    {
      "cell_type": "code",
      "source": [
        "trainData = pd.read_csv('train.txt', sep=';', header=None)\n",
        "valData = pd.read_csv('val.txt', sep=';', header=None)\n",
        "testData = pd.read_csv('test.txt', sep=';', header=None)\n",
        "trainData.columns"
      ],
      "metadata": {
        "colab": {
          "base_uri": "https://localhost:8080/"
        },
        "id": "GrmbobDDcwe3",
        "outputId": "4f4f50a7-9a29-4a92-ff11-bdd7ff18eba9"
      },
      "execution_count": 3,
      "outputs": [
        {
          "output_type": "execute_result",
          "data": {
            "text/plain": [
              "Int64Index([0, 1], dtype='int64')"
            ]
          },
          "metadata": {},
          "execution_count": 3
        }
      ]
    },
    {
      "cell_type": "code",
      "source": [
        "trainData[1].value_counts()"
      ],
      "metadata": {
        "colab": {
          "base_uri": "https://localhost:8080/"
        },
        "id": "y1JR5aJLtZN8",
        "outputId": "c27549f7-34aa-4354-b254-f019df0208f7"
      },
      "execution_count": 4,
      "outputs": [
        {
          "output_type": "execute_result",
          "data": {
            "text/plain": [
              "joy         5362\n",
              "sadness     4666\n",
              "anger       2159\n",
              "fear        1937\n",
              "love        1304\n",
              "surprise     572\n",
              "Name: 1, dtype: int64"
            ]
          },
          "metadata": {},
          "execution_count": 4
        }
      ]
    },
    {
      "cell_type": "markdown",
      "source": [
        "###  Preprocessing"
      ],
      "metadata": {
        "id": "kx7XwSigfElD"
      }
    },
    {
      "cell_type": "code",
      "source": [
        "padding_type='post'\n",
        "oov_label =\"<oov>\""
      ],
      "metadata": {
        "id": "CGSzqIavR7z_"
      },
      "execution_count": 5,
      "outputs": []
    },
    {
      "cell_type": "code",
      "source": [
        "tr_sentences = trainData[0].values\n",
        "tr_labels = trainData[1].values\n",
        "\n",
        "val_sentences = valData[0].values\n",
        "val_labels = valData[1].values\n",
        "\n",
        "test_sentences = testData[0].values\n",
        "test_labels = testData[1].values"
      ],
      "metadata": {
        "id": "7yMjPDOSdfJd"
      },
      "execution_count": 6,
      "outputs": []
    },
    {
      "cell_type": "code",
      "source": [
        "# X\n",
        "tokenizerX  = Tokenizer(oov_token=oov_label)\n",
        "tokenizerX.fit_on_texts(tr_sentences)\n",
        "XIndex = tokenizerX.word_index\n",
        "train_seq = tokenizerX.texts_to_sequences(tr_sentences)\n",
        "train_X = np.array(pad_sequences(train_seq,padding=padding_type))\n",
        "\n",
        "print(\"creating X from sentences\")\n",
        "print(\"padded sequence[0] = \",train_X[0])\n",
        "print(\"padded sequence-> X.shape: \",train_X.shape)\n",
        "print(\"Length of input index: \",len(XIndex.keys()))\n",
        "\n",
        "#y\n",
        "tokenizerY  = Tokenizer(oov_token=oov_label)\n",
        "tokenizerY.fit_on_texts(tr_labels)\n",
        "yIndex = tokenizerY.word_index\n",
        "train_y = np.array([y[0] for y in tokenizerY.texts_to_sequences(tr_labels)])\n",
        "print(yIndex)\n",
        "print(train_y[:10])"
      ],
      "metadata": {
        "colab": {
          "base_uri": "https://localhost:8080/"
        },
        "id": "NF_5PdIbfSmA",
        "outputId": "df2e244d-9af9-47b2-b1aa-5d95b39128c6"
      },
      "execution_count": 7,
      "outputs": [
        {
          "output_type": "stream",
          "name": "stdout",
          "text": [
            "creating X from sentences\n",
            "padded sequence[0] =  [  2 139   3 679   0   0   0   0   0   0   0   0   0   0   0   0   0   0\n",
            "   0   0   0   0   0   0   0   0   0   0   0   0   0   0   0   0   0   0\n",
            "   0   0   0   0   0   0   0   0   0   0   0   0   0   0   0   0   0   0\n",
            "   0   0   0   0   0   0   0   0   0   0   0   0]\n",
            "padded sequence-> X.shape:  (16000, 66)\n",
            "Length of input index:  15213\n",
            "{'<oov>': 1, 'joy': 2, 'sadness': 3, 'anger': 4, 'fear': 5, 'love': 6, 'surprise': 7}\n",
            "[3 3 4 6 4 3 7 5 2 6]\n"
          ]
        }
      ]
    },
    {
      "cell_type": "markdown",
      "source": [
        "we have 16000 trainig sequences with 66 tokens. Now convert the text to sequence with the same training tokens for validation and test data"
      ],
      "metadata": {
        "id": "CCLeFZ8Hq4tP"
      }
    },
    {
      "cell_type": "code",
      "source": [
        "test_seq = tokenizerX.texts_to_sequences(test_sentences)\n",
        "text_X = np.array(pad_sequences(test_seq,padding=padding_type,maxlen=train_X.shape[1],truncating=padding_type))\n",
        "test_y = np.array([y[0] for y in tokenizerY.texts_to_sequences(test_labels)])\n",
        "print(\"Preprocessing for Test data: \")\n",
        "print(text_X[0])\n",
        "print(text_X.shape)\n",
        "test_y[:10]"
      ],
      "metadata": {
        "colab": {
          "base_uri": "https://localhost:8080/"
        },
        "id": "XMpllWR7qkYO",
        "outputId": "79c96f83-6875-48b4-be77-ac0d635eb03e"
      },
      "execution_count": 8,
      "outputs": [
        {
          "output_type": "stream",
          "name": "stdout",
          "text": [
            "Preprocessing for Test data: \n",
            "[  17    8  203  715   15   17   26   46 5595  114   58    0    0    0\n",
            "    0    0    0    0    0    0    0    0    0    0    0    0    0    0\n",
            "    0    0    0    0    0    0    0    0    0    0    0    0    0    0\n",
            "    0    0    0    0    0    0    0    0    0    0    0    0    0    0\n",
            "    0    0    0    0    0    0    0    0    0    0]\n",
            "(2000, 66)\n"
          ]
        },
        {
          "output_type": "execute_result",
          "data": {
            "text/plain": [
              "array([3, 3, 3, 2, 3, 5, 4, 2, 2, 4])"
            ]
          },
          "metadata": {},
          "execution_count": 8
        }
      ]
    },
    {
      "cell_type": "code",
      "source": [
        "val_seq = tokenizerX.texts_to_sequences(val_sentences)\n",
        "val_X = np.array(pad_sequences(val_seq,padding=padding_type, maxlen=train_X.shape[1],truncating=padding_type))\n",
        "val_y = np.array([y[0] for y in tokenizerY.texts_to_sequences(val_labels)])\n",
        "print(\"Preprocessing Validation Data:\")\n",
        "print(val_X[0])\n",
        "print(val_X.shape)"
      ],
      "metadata": {
        "colab": {
          "base_uri": "https://localhost:8080/"
        },
        "id": "Vs65AZyysNpc",
        "outputId": "5dd774d2-08bd-4151-ab5a-269cd75e7fdd"
      },
      "execution_count": 9,
      "outputs": [
        {
          "output_type": "stream",
          "name": "stdout",
          "text": [
            "Preprocessing Validation Data:\n",
            "[   17     8   157   260     4   343    16    51    19   212 11289    50\n",
            "    10    13   533     0     0     0     0     0     0     0     0     0\n",
            "     0     0     0     0     0     0     0     0     0     0     0     0\n",
            "     0     0     0     0     0     0     0     0     0     0     0     0\n",
            "     0     0     0     0     0     0     0     0     0     0     0     0\n",
            "     0     0     0     0     0     0]\n",
            "(2000, 66)\n"
          ]
        }
      ]
    },
    {
      "cell_type": "markdown",
      "source": [
        "### Training/ validation"
      ],
      "metadata": {
        "id": "YJbyLWhFzLUB"
      }
    },
    {
      "cell_type": "code",
      "source": [
        "vocab_size = len(XIndex.keys())+1\n",
        "embedding_dim = len(yIndex.keys())+1\n",
        "max_length = train_X.shape[1]  # number of columns in the input matrix\n",
        "epochs = 40"
      ],
      "metadata": {
        "id": "vn6dfOsr4cTy"
      },
      "execution_count": 10,
      "outputs": []
    },
    {
      "cell_type": "code",
      "source": [
        "model = tf.keras.Sequential([\n",
        "    tf.keras.layers.Embedding(vocab_size, embedding_dim, input_length=max_length),\n",
        "    tf.keras.layers.GlobalAveragePooling1D(),\n",
        "    tf.keras.layers.Dense(24, activation='relu'),\n",
        "    tf.keras.layers.Dense(8,activation='softmax')\n",
        "])\n",
        "model.compile( optimizer=tf.keras.optimizers.Adam(0.001),\n",
        "    loss=tf.keras.losses.SparseCategoricalCrossentropy(from_logits=True),\n",
        "    metrics=[tf.keras.metrics.SparseCategoricalAccuracy()],)"
      ],
      "metadata": {
        "id": "Lo261ACksrI4"
      },
      "execution_count": 11,
      "outputs": []
    },
    {
      "cell_type": "code",
      "source": [
        "history = model.fit(train_X, train_y, epochs=epochs, validation_data=(val_X, val_y), verbose=2)"
      ],
      "metadata": {
        "colab": {
          "base_uri": "https://localhost:8080/"
        },
        "id": "TyjmS_Hf2No2",
        "outputId": "7d8d7610-28e1-444e-f2f3-f00abc5c70d4"
      },
      "execution_count": 12,
      "outputs": [
        {
          "output_type": "stream",
          "name": "stdout",
          "text": [
            "Epoch 1/40\n"
          ]
        },
        {
          "output_type": "stream",
          "name": "stderr",
          "text": [
            "/usr/local/lib/python3.7/dist-packages/tensorflow/python/util/dispatch.py:1082: UserWarning: \"`sparse_categorical_crossentropy` received `from_logits=True`, but the `output` argument was produced by a sigmoid or softmax activation and thus does not represent logits. Was this intended?\"\n",
            "  return dispatch_target(*args, **kwargs)\n"
          ]
        },
        {
          "output_type": "stream",
          "name": "stdout",
          "text": [
            "500/500 - 3s - loss: 1.6605 - sparse_categorical_accuracy: 0.3298 - val_loss: 1.5816 - val_sparse_categorical_accuracy: 0.3520 - 3s/epoch - 6ms/step\n",
            "Epoch 2/40\n",
            "500/500 - 2s - loss: 1.5680 - sparse_categorical_accuracy: 0.3351 - val_loss: 1.5701 - val_sparse_categorical_accuracy: 0.3520 - 2s/epoch - 4ms/step\n",
            "Epoch 3/40\n",
            "500/500 - 2s - loss: 1.5533 - sparse_categorical_accuracy: 0.3352 - val_loss: 1.5549 - val_sparse_categorical_accuracy: 0.3520 - 2s/epoch - 4ms/step\n",
            "Epoch 4/40\n",
            "500/500 - 2s - loss: 1.5124 - sparse_categorical_accuracy: 0.3502 - val_loss: 1.4887 - val_sparse_categorical_accuracy: 0.4090 - 2s/epoch - 4ms/step\n",
            "Epoch 5/40\n",
            "500/500 - 2s - loss: 1.3322 - sparse_categorical_accuracy: 0.4724 - val_loss: 1.2664 - val_sparse_categorical_accuracy: 0.5770 - 2s/epoch - 4ms/step\n",
            "Epoch 6/40\n",
            "500/500 - 2s - loss: 1.0724 - sparse_categorical_accuracy: 0.6242 - val_loss: 1.0855 - val_sparse_categorical_accuracy: 0.6425 - 2s/epoch - 4ms/step\n",
            "Epoch 7/40\n",
            "500/500 - 2s - loss: 0.8936 - sparse_categorical_accuracy: 0.7026 - val_loss: 0.9603 - val_sparse_categorical_accuracy: 0.6670 - 2s/epoch - 4ms/step\n",
            "Epoch 8/40\n",
            "500/500 - 2s - loss: 0.7568 - sparse_categorical_accuracy: 0.7525 - val_loss: 0.8596 - val_sparse_categorical_accuracy: 0.7160 - 2s/epoch - 4ms/step\n",
            "Epoch 9/40\n",
            "500/500 - 2s - loss: 0.6535 - sparse_categorical_accuracy: 0.7814 - val_loss: 0.7969 - val_sparse_categorical_accuracy: 0.7400 - 2s/epoch - 4ms/step\n",
            "Epoch 10/40\n",
            "500/500 - 2s - loss: 0.5734 - sparse_categorical_accuracy: 0.8137 - val_loss: 0.7405 - val_sparse_categorical_accuracy: 0.7550 - 2s/epoch - 4ms/step\n",
            "Epoch 11/40\n",
            "500/500 - 2s - loss: 0.5075 - sparse_categorical_accuracy: 0.8426 - val_loss: 0.6946 - val_sparse_categorical_accuracy: 0.7715 - 2s/epoch - 4ms/step\n",
            "Epoch 12/40\n",
            "500/500 - 2s - loss: 0.4485 - sparse_categorical_accuracy: 0.8714 - val_loss: 0.6646 - val_sparse_categorical_accuracy: 0.7820 - 2s/epoch - 4ms/step\n",
            "Epoch 13/40\n",
            "500/500 - 2s - loss: 0.3943 - sparse_categorical_accuracy: 0.8946 - val_loss: 0.6297 - val_sparse_categorical_accuracy: 0.8065 - 2s/epoch - 4ms/step\n",
            "Epoch 14/40\n",
            "500/500 - 2s - loss: 0.3452 - sparse_categorical_accuracy: 0.9120 - val_loss: 0.6034 - val_sparse_categorical_accuracy: 0.8160 - 2s/epoch - 4ms/step\n",
            "Epoch 15/40\n",
            "500/500 - 2s - loss: 0.2987 - sparse_categorical_accuracy: 0.9237 - val_loss: 0.5776 - val_sparse_categorical_accuracy: 0.8345 - 2s/epoch - 4ms/step\n",
            "Epoch 16/40\n",
            "500/500 - 2s - loss: 0.2586 - sparse_categorical_accuracy: 0.9319 - val_loss: 0.5524 - val_sparse_categorical_accuracy: 0.8435 - 2s/epoch - 4ms/step\n",
            "Epoch 17/40\n",
            "500/500 - 2s - loss: 0.2224 - sparse_categorical_accuracy: 0.9372 - val_loss: 0.5381 - val_sparse_categorical_accuracy: 0.8450 - 2s/epoch - 4ms/step\n",
            "Epoch 18/40\n",
            "500/500 - 2s - loss: 0.1940 - sparse_categorical_accuracy: 0.9414 - val_loss: 0.5390 - val_sparse_categorical_accuracy: 0.8550 - 2s/epoch - 4ms/step\n",
            "Epoch 19/40\n",
            "500/500 - 2s - loss: 0.1699 - sparse_categorical_accuracy: 0.9497 - val_loss: 0.5263 - val_sparse_categorical_accuracy: 0.8535 - 2s/epoch - 4ms/step\n",
            "Epoch 20/40\n",
            "500/500 - 2s - loss: 0.1506 - sparse_categorical_accuracy: 0.9572 - val_loss: 0.5288 - val_sparse_categorical_accuracy: 0.8570 - 2s/epoch - 4ms/step\n",
            "Epoch 21/40\n",
            "500/500 - 2s - loss: 0.1344 - sparse_categorical_accuracy: 0.9641 - val_loss: 0.5309 - val_sparse_categorical_accuracy: 0.8600 - 2s/epoch - 4ms/step\n",
            "Epoch 22/40\n",
            "500/500 - 2s - loss: 0.1212 - sparse_categorical_accuracy: 0.9692 - val_loss: 0.5544 - val_sparse_categorical_accuracy: 0.8520 - 2s/epoch - 4ms/step\n",
            "Epoch 23/40\n",
            "500/500 - 2s - loss: 0.1103 - sparse_categorical_accuracy: 0.9724 - val_loss: 0.5459 - val_sparse_categorical_accuracy: 0.8625 - 2s/epoch - 4ms/step\n",
            "Epoch 24/40\n",
            "500/500 - 2s - loss: 0.0998 - sparse_categorical_accuracy: 0.9753 - val_loss: 0.5475 - val_sparse_categorical_accuracy: 0.8655 - 2s/epoch - 4ms/step\n",
            "Epoch 25/40\n",
            "500/500 - 2s - loss: 0.0913 - sparse_categorical_accuracy: 0.9773 - val_loss: 0.5577 - val_sparse_categorical_accuracy: 0.8615 - 2s/epoch - 4ms/step\n",
            "Epoch 26/40\n",
            "500/500 - 2s - loss: 0.0841 - sparse_categorical_accuracy: 0.9787 - val_loss: 0.5666 - val_sparse_categorical_accuracy: 0.8605 - 2s/epoch - 4ms/step\n",
            "Epoch 27/40\n",
            "500/500 - 2s - loss: 0.0769 - sparse_categorical_accuracy: 0.9806 - val_loss: 0.5763 - val_sparse_categorical_accuracy: 0.8590 - 2s/epoch - 4ms/step\n",
            "Epoch 28/40\n",
            "500/500 - 3s - loss: 0.0710 - sparse_categorical_accuracy: 0.9826 - val_loss: 0.5946 - val_sparse_categorical_accuracy: 0.8565 - 3s/epoch - 5ms/step\n",
            "Epoch 29/40\n",
            "500/500 - 2s - loss: 0.0658 - sparse_categorical_accuracy: 0.9836 - val_loss: 0.5984 - val_sparse_categorical_accuracy: 0.8540 - 2s/epoch - 4ms/step\n",
            "Epoch 30/40\n",
            "500/500 - 2s - loss: 0.0618 - sparse_categorical_accuracy: 0.9844 - val_loss: 0.6143 - val_sparse_categorical_accuracy: 0.8560 - 2s/epoch - 4ms/step\n",
            "Epoch 31/40\n",
            "500/500 - 2s - loss: 0.0564 - sparse_categorical_accuracy: 0.9856 - val_loss: 0.6305 - val_sparse_categorical_accuracy: 0.8550 - 2s/epoch - 4ms/step\n",
            "Epoch 32/40\n",
            "500/500 - 2s - loss: 0.0526 - sparse_categorical_accuracy: 0.9864 - val_loss: 0.6418 - val_sparse_categorical_accuracy: 0.8530 - 2s/epoch - 4ms/step\n",
            "Epoch 33/40\n",
            "500/500 - 2s - loss: 0.0490 - sparse_categorical_accuracy: 0.9881 - val_loss: 0.6626 - val_sparse_categorical_accuracy: 0.8495 - 2s/epoch - 4ms/step\n",
            "Epoch 34/40\n",
            "500/500 - 2s - loss: 0.0461 - sparse_categorical_accuracy: 0.9880 - val_loss: 0.6730 - val_sparse_categorical_accuracy: 0.8480 - 2s/epoch - 4ms/step\n",
            "Epoch 35/40\n",
            "500/500 - 2s - loss: 0.0433 - sparse_categorical_accuracy: 0.9884 - val_loss: 0.6879 - val_sparse_categorical_accuracy: 0.8500 - 2s/epoch - 4ms/step\n",
            "Epoch 36/40\n",
            "500/500 - 2s - loss: 0.0405 - sparse_categorical_accuracy: 0.9898 - val_loss: 0.7033 - val_sparse_categorical_accuracy: 0.8440 - 2s/epoch - 4ms/step\n",
            "Epoch 37/40\n",
            "500/500 - 2s - loss: 0.0389 - sparse_categorical_accuracy: 0.9893 - val_loss: 0.7254 - val_sparse_categorical_accuracy: 0.8390 - 2s/epoch - 4ms/step\n",
            "Epoch 38/40\n",
            "500/500 - 2s - loss: 0.0364 - sparse_categorical_accuracy: 0.9905 - val_loss: 0.7312 - val_sparse_categorical_accuracy: 0.8445 - 2s/epoch - 4ms/step\n",
            "Epoch 39/40\n",
            "500/500 - 2s - loss: 0.0346 - sparse_categorical_accuracy: 0.9906 - val_loss: 0.7530 - val_sparse_categorical_accuracy: 0.8395 - 2s/epoch - 4ms/step\n",
            "Epoch 40/40\n",
            "500/500 - 2s - loss: 0.0331 - sparse_categorical_accuracy: 0.9911 - val_loss: 0.7659 - val_sparse_categorical_accuracy: 0.8435 - 2s/epoch - 4ms/step\n"
          ]
        }
      ]
    },
    {
      "cell_type": "code",
      "source": [
        "import matplotlib.pyplot as plt\n",
        "\n",
        "\n",
        "def plot_graphs(history, string):\n",
        "  plt.plot(history.history[string])\n",
        "  plt.plot(history.history['val_'+string])\n",
        "  plt.xlabel(\"Epochs\")\n",
        "  plt.ylabel(string)\n",
        "  plt.legend([string, 'val_'+string])\n",
        "  plt.show()\n",
        "  \n",
        "plot_graphs(history, \"sparse_categorical_accuracy\")\n",
        "plot_graphs(history, \"loss\")"
      ],
      "metadata": {
        "id": "ZUoLHMUBRX5u",
        "colab": {
          "base_uri": "https://localhost:8080/",
          "height": 541
        },
        "outputId": "2ee370cb-645d-4e7a-8997-d3c24b7ac454"
      },
      "execution_count": 13,
      "outputs": [
        {
          "output_type": "display_data",
          "data": {
            "text/plain": [
              "<Figure size 432x288 with 1 Axes>"
            ],
            "image/png": "[encoded data removed]"
          },
          "metadata": {
            "needs_background": "light"
          }
        },
        {
          "output_type": "display_data",
          "data": {
            "text/plain": [
              "<Figure size 432x288 with 1 Axes>"
            ],
            "image/png": "[encoded data removed]"
          },
          "metadata": {
            "needs_background": "light"
          }
        }
      ]
    },
    {
      "cell_type": "code",
      "source": [
        "reverse_word_index = dict([(value, key) for (key, value) in XIndex.items()])\n",
        "\n",
        "def decode_sentence(text):\n",
        "    return ' '.join([reverse_word_index.get(i, '?') for i in text])\n",
        "\n",
        "print(decode_sentence(train_X[0]))\n",
        "print(tr_sentences[0])\n",
        "print(tr_labels[0])"
      ],
      "metadata": {
        "id": "lO2Ces-3Waq_",
        "outputId": "09296e17-c218-4845-9cfd-09e77576efbf",
        "colab": {
          "base_uri": "https://localhost:8080/"
        }
      },
      "execution_count": 14,
      "outputs": [
        {
          "output_type": "stream",
          "name": "stdout",
          "text": [
            "i didnt feel humiliated ? ? ? ? ? ? ? ? ? ? ? ? ? ? ? ? ? ? ? ? ? ? ? ? ? ? ? ? ? ? ? ? ? ? ? ? ? ? ? ? ? ? ? ? ? ? ? ? ? ? ? ? ? ? ? ? ? ? ? ? ? ?\n",
            "i didnt feel humiliated\n",
            "sadness\n"
          ]
        }
      ]
    },
    {
      "cell_type": "code",
      "source": [
        "e = model.layers[0]\n",
        "weights = e.get_weights()[0]\n",
        "print(weights.shape) # shape: (vocab_size, embedding_dim)"
      ],
      "metadata": {
        "id": "F6HG53tZWj07",
        "outputId": "033bfcbd-ffd3-49e2-87fd-4ddf0415705e",
        "colab": {
          "base_uri": "https://localhost:8080/"
        }
      },
      "execution_count": 15,
      "outputs": [
        {
          "output_type": "stream",
          "name": "stdout",
          "text": [
            "(15214, 8)\n"
          ]
        }
      ]
    },
    {
      "cell_type": "code",
      "source": [
        "import io\n",
        "\n",
        "out_v = io.open('vecs.tsv', 'w', encoding='utf-8')\n",
        "out_m = io.open('meta.tsv', 'w', encoding='utf-8')\n",
        "for word_num in range(1, vocab_size):\n",
        "  word = reverse_word_index[word_num]\n",
        "  embeddings = weights[word_num]\n",
        "  out_m.write(word + \"\\n\")\n",
        "  out_v.write('\\t'.join([str(x) for x in embeddings]) + \"\\n\")\n",
        "out_v.close()\n",
        "out_m.close()"
      ],
      "metadata": {
        "id": "br04iEtTWpld"
      },
      "execution_count": 16,
      "outputs": []
    },
    {
      "cell_type": "code",
      "source": [
        "try:\n",
        "  from google.colab import files\n",
        "except ImportError:\n",
        "  pass\n",
        "else:\n",
        "  files.download('vecs.tsv')\n",
        "  files.download('meta.tsv')"
      ],
      "metadata": {
        "id": "NRqAO9tyWvcb",
        "outputId": "afb1b19b-0ba8-42f7-99c4-128199396fab",
        "colab": {
          "base_uri": "https://localhost:8080/",
          "height": 17
        }
      },
      "execution_count": 17,
      "outputs": [
        {
          "output_type": "display_data",
          "data": {
            "text/plain": [
              "<IPython.core.display.Javascript object>"
            ],
            "application/javascript": [
              "\n",
              "    async function download(id, filename, size) {\n",
              "      if (!google.colab.kernel.accessAllowed) {\n",
              "        return;\n",
              "      }\n",
              "      const div = document.createElement('div');\n",
              "      const label = document.createElement('label');\n",
              "      label.textContent = `Downloading \"${filename}\": `;\n",
              "      div.appendChild(label);\n",
              "      const progress = document.createElement('progress');\n",
              "      progress.max = size;\n",
              "      div.appendChild(progress);\n",
              "      document.body.appendChild(div);\n",
              "\n",
              "      const buffers = [];\n",
              "      let downloaded = 0;\n",
              "\n",
              "      const channel = await google.colab.kernel.comms.open(id);\n",
              "      // Send a message to notify the kernel that we're ready.\n",
              "      channel.send({})\n",
              "\n",
              "      for await (const message of channel.messages) {\n",
              "        // Send a message to notify the kernel that we're ready.\n",
              "        channel.send({})\n",
              "        if (message.buffers) {\n",
              "          for (const buffer of message.buffers) {\n",
              "            buffers.push(buffer);\n",
              "            downloaded += buffer.byteLength;\n",
              "            progress.value = downloaded;\n",
              "          }\n",
              "        }\n",
              "      }\n",
              "      const blob = new Blob(buffers, {type: 'application/binary'});\n",
              "      const a = document.createElement('a');\n",
              "      a.href = window.URL.createObjectURL(blob);\n",
              "      a.download = filename;\n",
              "      div.appendChild(a);\n",
              "      a.click();\n",
              "      div.remove();\n",
              "    }\n",
              "  "
            ]
          },
          "metadata": {}
        },
        {
          "output_type": "display_data",
          "data": {
            "text/plain": [
              "<IPython.core.display.Javascript object>"
            ],
            "application/javascript": [
              "download(\"download_e65740b6-45bb-4361-b6ca-a627730025fd\", \"vecs.tsv\", 1378585)"
            ]
          },
          "metadata": {}
        },
        {
          "output_type": "display_data",
          "data": {
            "text/plain": [
              "<IPython.core.display.Javascript object>"
            ],
            "application/javascript": [
              "\n",
              "    async function download(id, filename, size) {\n",
              "      if (!google.colab.kernel.accessAllowed) {\n",
              "        return;\n",
              "      }\n",
              "      const div = document.createElement('div');\n",
              "      const label = document.createElement('label');\n",
              "      label.textContent = `Downloading \"${filename}\": `;\n",
              "      div.appendChild(label);\n",
              "      const progress = document.createElement('progress');\n",
              "      progress.max = size;\n",
              "      div.appendChild(progress);\n",
              "      document.body.appendChild(div);\n",
              "\n",
              "      const buffers = [];\n",
              "      let downloaded = 0;\n",
              "\n",
              "      const channel = await google.colab.kernel.comms.open(id);\n",
              "      // Send a message to notify the kernel that we're ready.\n",
              "      channel.send({})\n",
              "\n",
              "      for await (const message of channel.messages) {\n",
              "        // Send a message to notify the kernel that we're ready.\n",
              "        channel.send({})\n",
              "        if (message.buffers) {\n",
              "          for (const buffer of message.buffers) {\n",
              "            buffers.push(buffer);\n",
              "            downloaded += buffer.byteLength;\n",
              "            progress.value = downloaded;\n",
              "          }\n",
              "        }\n",
              "      }\n",
              "      const blob = new Blob(buffers, {type: 'application/binary'});\n",
              "      const a = document.createElement('a');\n",
              "      a.href = window.URL.createObjectURL(blob);\n",
              "      a.download = filename;\n",
              "      div.appendChild(a);\n",
              "      a.click();\n",
              "      div.remove();\n",
              "    }\n",
              "  "
            ]
          },
          "metadata": {}
        },
        {
          "output_type": "display_data",
          "data": {
            "text/plain": [
              "<IPython.core.display.Javascript object>"
            ],
            "application/javascript": [
              "download(\"download_6bc82528-90ac-44cd-b905-67ae5e9c7ca4\", \"meta.tsv\", 122297)"
            ]
          },
          "metadata": {}
        }
      ]
    },
    {
      "cell_type": "code",
      "source": [
        "reverse_label_index = dict([(value, key) for (key, value) in yIndex.items()])\n",
        "reverse_label_index"
      ],
      "metadata": {
        "id": "QjVGLUzGchmI",
        "outputId": "0e691e07-2150-4f11-fdc8-3c3ba4ee9574",
        "colab": {
          "base_uri": "https://localhost:8080/"
        }
      },
      "execution_count": 19,
      "outputs": [
        {
          "output_type": "execute_result",
          "data": {
            "text/plain": [
              "{1: '<oov>',\n",
              " 2: 'joy',\n",
              " 3: 'sadness',\n",
              " 4: 'anger',\n",
              " 5: 'fear',\n",
              " 6: 'love',\n",
              " 7: 'surprise'}"
            ]
          },
          "metadata": {},
          "execution_count": 19
        }
      ]
    },
    {
      "cell_type": "code",
      "source": [
        "sentence = [\n",
        "            \"im feeling rather rotten so im not very ambitious right now\", \n",
        "            \"i cant walk into a shop anywhere where i do not feel uncomfortable\"]\n",
        "labels = ['sadness','fear']\n",
        "sequences = tokenizerX.texts_to_sequences(sentence)\n",
        "padded = pad_sequences(sequences, maxlen=max_length, padding=padding_type, truncating=padding_type)\n",
        "predictions = model.predict(padded)\n",
        "pred_y = [np.argmax(p) for p in predictions]\n",
        "print([reverse_label_index[y] for y in pred_y])"
      ],
      "metadata": {
        "id": "SwTKOX1_Wwdb",
        "outputId": "19dad7fa-8968-4caa-ec51-d5f7108f4c4b",
        "colab": {
          "base_uri": "https://localhost:8080/"
        }
      },
      "execution_count": 20,
      "outputs": [
        {
          "output_type": "stream",
          "name": "stdout",
          "text": [
            "['sadness', 'anger']\n"
          ]
        }
      ]
    }
  ]
}