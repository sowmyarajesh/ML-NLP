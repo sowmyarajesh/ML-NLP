{
  "nbformat": 4,
  "nbformat_minor": 0,
  "metadata": {
    "colab": {
      "name": "spacy_intro.ipynb",
      "provenance": [],
      "collapsed_sections": [],
      "authorship_tag": "ABX9TyPtb7h7XFeKwEYS9SeT3VDU",
      "include_colab_link": true
    },
    "kernelspec": {
      "name": "python3",
      "display_name": "Python 3"
    },
    "language_info": {
      "name": "python"
    }
  },
  "cells": [
    {
      "cell_type": "markdown",
      "metadata": {
        "id": "view-in-github",
        "colab_type": "text"
      },
      "source": [
        "<a href=\"https://colab.research.google.com/github/sowmyarajesh/ML-NLP/blob/main/spacy_intro.ipynb\" target=\"_parent\"><img src=\"https://colab.research.google.com/assets/colab-badge.svg\" alt=\"Open In Colab\"/></a>"
      ]
    },
    {
      "cell_type": "code",
      "execution_count": 1,
      "metadata": {
        "colab": {
          "base_uri": "https://localhost:8080/"
        },
        "id": "rh4npYZn4lWY",
        "outputId": "1dc8f7bb-125f-48d4-dd94-fd5bd7bfff04"
      },
      "outputs": [
        {
          "output_type": "stream",
          "name": "stdout",
          "text": [
            "Mounted at /content/drive\n"
          ]
        }
      ],
      "source": [
        "from google.colab import drive\n",
        "drive.mount('/content/drive')\n",
        "data_folder =\"/content/drive/MyDrive/Colab Notebooks/data/clinicalNote_training_20180910\""
      ]
    },
    {
      "cell_type": "code",
      "source": [
        "files = ['100035.txt','100039.txt','100187.txt','100229.txt','100564.txt']\n"
      ],
      "metadata": {
        "id": "RpXfGk2W4vBz"
      },
      "execution_count": 2,
      "outputs": []
    },
    {
      "cell_type": "code",
      "source": [
        "# !python -m spacy download en_core_web_md"
      ],
      "metadata": {
        "id": "0zIjYHaf9bMm"
      },
      "execution_count": null,
      "outputs": []
    },
    {
      "cell_type": "code",
      "source": [
        "import spacy\n",
        "nlp = spacy.load(\"en_core_web_md\")"
      ],
      "metadata": {
        "id": "pGL_LaUC5Mb8"
      },
      "execution_count": 33,
      "outputs": []
    },
    {
      "cell_type": "code",
      "source": [
        "with open (data_folder+\"/\"+files[0], \"r\") as f:\n",
        "    text = f.read()\n",
        "\n",
        "doc1 = nlp(text)\n"
      ],
      "metadata": {
        "id": "DtxrL3fR5UIg"
      },
      "execution_count": 37,
      "outputs": []
    },
    {
      "cell_type": "code",
      "source": [
        "print(len(text))\n",
        "print(len(doc1))\n",
        "print(\"text tokens\\n===============\")\n",
        "for token in text[:10]:\n",
        "  print(token)\n",
        "\n",
        "print(\"doc tokens\\n=============\")\n",
        "for token in doc1[:10]:\n",
        "  print(token)"
      ],
      "metadata": {
        "id": "zQdK87Ud5iEc"
      },
      "execution_count": null,
      "outputs": []
    },
    {
      "cell_type": "markdown",
      "source": [
        "Sentence Boundary Detection (SBD)"
      ],
      "metadata": {
        "id": "0aVfZwaQ57rX"
      }
    },
    {
      "cell_type": "code",
      "source": [
        "for sent in doc1.sents:\n",
        "    print (sent)"
      ],
      "metadata": {
        "id": "0kyY1aFS5zfx"
      },
      "execution_count": null,
      "outputs": []
    },
    {
      "cell_type": "code",
      "source": [
        "sentence1 = list(doc1.sents)[0]\n",
        "print (sentence1[0].vector)"
      ],
      "metadata": {
        "colab": {
          "base_uri": "https://localhost:8080/"
        },
        "id": "LFuFmslz6Cil",
        "outputId": "1603a811-9450-48f7-cf5b-71dac88a6a9c"
      },
      "execution_count": 36,
      "outputs": [
        {
          "output_type": "stream",
          "name": "stdout",
          "text": [
            "[-6.6671e-01  1.2714e-01  3.4408e-01 -2.4200e-01 -1.7420e-01  2.7723e-01\n",
            " -1.0618e-02  1.4961e-01 -3.2029e-01  2.2656e+00 -9.7427e-02 -9.7226e-02\n",
            " -3.2392e-01  2.1210e-01  1.5200e-01  2.0285e-01 -2.0765e-02  5.9515e-01\n",
            " -1.7719e-01  5.7305e-01  2.5860e-01 -4.3370e-01  4.6580e-01 -2.9989e-02\n",
            "  1.4891e-01  4.9764e-01  2.5444e-01 -2.2391e-01 -1.3732e-01  2.4398e-01\n",
            "  1.0246e-01  1.8953e-01 -7.2050e-02  4.7071e-01 -1.6939e-01 -1.0995e-01\n",
            " -3.6424e-01  4.8400e-02  1.2300e-01  1.6162e-01 -2.5958e-01  3.1736e-01\n",
            "  2.1367e-01  4.8625e-01  4.0389e-01 -3.1308e-01  3.2294e-01  3.7989e-01\n",
            "  4.7948e-02 -4.1032e-01 -1.2099e-01  3.1470e-01  6.0330e-02 -7.3303e-02\n",
            " -2.9005e-01  1.2543e-01  1.9569e-01 -3.3313e-02 -4.9690e-01 -1.3207e-01\n",
            " -2.3220e-01 -3.7269e-01  4.9647e-01 -5.9633e-01 -3.1409e-02  1.1732e-03\n",
            "  1.3279e-01 -5.2129e-01  2.0370e-01 -2.9341e-01  2.0251e-01  1.4154e-01\n",
            " -2.4393e-01 -4.9847e-01  2.3822e-01  1.6266e-01  8.8362e-02  2.3972e-01\n",
            " -2.7012e-01  4.6078e-01 -3.1544e-01 -5.1703e-02 -6.2127e-02  2.4740e-01\n",
            " -8.8207e-02  3.1706e-02 -3.5726e-02 -8.1247e-02  1.2267e-01  1.3850e-02\n",
            " -2.8191e-01 -9.4769e-02 -4.9826e-03 -1.1760e-01 -6.0282e-02  2.3296e-01\n",
            "  1.6374e-02 -4.0936e-01 -1.6616e-02  6.3168e-01 -2.8340e-01 -1.1140e-01\n",
            "  1.6435e-01  1.9183e-01  4.4544e-01 -1.7998e+00 -2.8664e-01  3.2924e-01\n",
            " -5.4323e-02  1.6996e-01  9.3725e-02  5.1316e-01  3.7001e-01  1.6941e-01\n",
            "  1.7476e-01  1.2095e-01  5.4040e-02 -1.0211e-01  3.0818e-01 -4.3458e-02\n",
            "  2.2787e-01 -3.7474e-01 -5.5058e-02  3.7220e-01  2.0972e-02  4.5969e-01\n",
            " -2.1595e-01  3.6304e-02  1.6914e-01 -1.8279e-01  3.1368e-01  1.2299e-02\n",
            "  1.8795e-01 -6.6993e-01 -3.6325e-01 -1.0281e-01  1.5210e-01  4.8835e-02\n",
            "  2.2758e-01  2.0160e-01 -6.5149e-02  8.3777e-01  8.6273e-02  2.9477e-01\n",
            " -4.7811e-02 -1.4887e-01  5.1620e-01  6.7149e-02  4.5938e-03  3.2994e-01\n",
            "  2.0758e-01 -3.4382e-01  1.7495e-01 -3.1850e-01  3.5589e-01  9.7628e-02\n",
            " -2.0538e-01 -1.1704e-01  3.2605e-01 -2.2294e-01  1.7424e-01 -1.4470e-01\n",
            "  6.2465e-02  5.2820e-03 -6.4957e-01 -4.8203e-02 -5.6616e-01 -5.9196e-01\n",
            "  2.2734e-01  2.4282e-01 -3.0102e-02 -4.8121e-01  4.0169e-01 -5.5600e-01\n",
            "  7.9268e-01  8.6262e-02  3.4179e-01  4.3102e-02 -4.9337e-03 -1.9147e-01\n",
            "  6.3115e-02  2.2693e-01  1.4036e-01  7.1382e-01 -2.5884e-01  1.6559e-01\n",
            " -1.0333e-02  1.0209e-01  2.2318e-01  1.4016e-01 -3.8535e-02  2.5666e-02\n",
            " -6.0597e-01 -4.1620e-01  5.4325e-01  1.0101e-01 -5.7898e-02 -6.9768e-02\n",
            "  5.2381e-01  1.9346e-01  1.6754e-01 -2.6552e-01 -7.8037e-01  7.2524e-01\n",
            " -4.1448e-01 -2.1340e-01  4.1101e-02  1.5617e-01  8.6121e-02  2.4477e-01\n",
            " -7.7233e-02  8.0867e-01 -3.0488e-01 -2.7709e-01  1.6014e-01  5.6010e-01\n",
            "  2.8813e-02 -2.8843e-01  6.1763e-02  3.4624e-01 -2.1656e-01 -3.6940e-01\n",
            "  8.5962e-03 -2.2270e-01  5.0872e-01  7.5055e-02 -2.9067e-01 -2.8953e-01\n",
            " -3.0275e-01 -1.2933e-01 -1.5138e-01 -5.7422e-03 -2.9529e-01 -1.8328e-01\n",
            " -3.2245e-01 -2.8641e-01  4.1169e-01  4.9829e-01 -3.4712e-01  2.7328e-02\n",
            " -2.7990e-01 -3.2767e-01 -2.7840e-01 -1.4725e-01 -5.8199e-02 -4.3629e-03\n",
            "  4.3134e-01 -1.9197e-01 -2.7154e-01 -9.1204e-02  3.0020e-01 -5.9623e-02\n",
            " -3.5735e-01 -1.3570e-02 -9.5231e-02  4.5126e-01  1.6975e-01 -2.3159e-01\n",
            "  1.3196e-01 -2.1373e-01  8.5141e-03 -3.5147e-01 -1.9188e-01  6.3581e-01\n",
            " -1.4365e-01  4.1553e-01  2.3237e-01 -5.2759e-02  4.0725e-01  1.1140e-01\n",
            "  1.4070e-01  2.2039e-01  7.2434e-02 -5.4988e-02  1.0352e-01  3.3375e-01\n",
            "  2.3473e-01 -9.2879e-02 -1.1799e-01 -9.8883e-04 -1.0267e-01  1.0100e-01\n",
            " -8.5750e-02 -3.7774e-02 -7.0928e-02 -5.0406e-01 -3.2240e-01  1.4030e-01\n",
            " -3.1939e-01  7.5121e-03 -3.4440e-01 -2.2549e-01 -2.0548e-01 -2.3970e-01\n",
            "  8.7488e-02  2.1173e-01 -8.6177e-02 -1.8457e-01  1.6106e-01 -1.1128e-01]\n"
          ]
        }
      ]
    },
    {
      "cell_type": "markdown",
      "source": [
        "**Token Attributes**\n",
        "\n",
        "The token object contains a lot of different attributes that are VITAL do performing NLP in spaCy. We will be working with a few of them, such as:\n",
        "\n",
        ".text\n",
        "\n",
        ".head\n",
        "\n",
        ".left_edge\n",
        "\n",
        ".right_edge\n",
        "\n",
        ".ent_type_\n",
        "\n",
        ".iob_ : OB code of named entity tag. “B” means the token begins an entity, “I” means it is inside an entity, “O” means it is outside an entity, and \"\" means no entity tag is set.\n",
        "\n",
        ".lemma_\n",
        "\n",
        ".morph\n",
        "\n",
        ".pos_\n",
        "\n",
        ".dep_\n",
        "\n",
        ".lang_"
      ],
      "metadata": {
        "id": "iPk_ElUd6G-a"
      }
    },
    {
      "cell_type": "code",
      "source": [
        "token1 = sentence1[111]\n",
        "token1"
      ],
      "metadata": {
        "colab": {
          "base_uri": "https://localhost:8080/"
        },
        "id": "W4p2kNzb6LIL",
        "outputId": "b752b972-f0ae-40f9-d9b6-068092389f0f"
      },
      "execution_count": 25,
      "outputs": [
        {
          "output_type": "execute_result",
          "data": {
            "text/plain": [
              "Illness"
            ]
          },
          "metadata": {},
          "execution_count": 25
        }
      ]
    },
    {
      "cell_type": "code",
      "source": [
        "print(\"text = \",token1.text)\n",
        "print(\"head = \", token1.head)\n",
        "print(\"left_edge = \", token1.left_edge)\n",
        "print(\"right_edge = \", token1.right_edge)\n",
        "print(\"ent_type = \", token1.ent_type, token1.ent_type_)\n",
        "print(\"iob_ = \", token1.ent_iob_)\n",
        "print(\"lemma_ = \", token1.lemma_)\n",
        "print(\"morph = \", token1.morph)\n",
        "print(\"pos_ = \", token1.pos_)\n",
        "print(\"dep_ = \", token1.dep_)\n",
        "print(\"lang_ = \", token1.lang_)\n"
      ],
      "metadata": {
        "colab": {
          "base_uri": "https://localhost:8080/"
        },
        "id": "Pgbuwbs46Wug",
        "outputId": "3d814a76-058d-417f-b5cc-bf8925a89a45"
      },
      "execution_count": 26,
      "outputs": [
        {
          "output_type": "stream",
          "name": "stdout",
          "text": [
            "text =  Illness\n",
            "head =  of\n",
            "left_edge =  Present\n",
            "right_edge =  Illness\n",
            "ent_type =  0 \n",
            "iob_ =  O\n",
            "lemma_ =  Illness\n",
            "morph =  Number=Sing\n",
            "pos_ =  PROPN\n",
            "dep_ =  pobj\n",
            "lang_ =  en\n"
          ]
        }
      ]
    },
    {
      "cell_type": "code",
      "source": [
        "for token in sentence1:\n",
        "    print (token.text, token.pos_, token.dep_)"
      ],
      "metadata": {
        "id": "7SC95uXu7MUS"
      },
      "execution_count": null,
      "outputs": []
    },
    {
      "cell_type": "code",
      "source": [
        "from spacy import displacy\n",
        "displacy.render(sentence1, style=\"dep\")"
      ],
      "metadata": {
        "id": "4GmgnBbK8gBz"
      },
      "execution_count": null,
      "outputs": []
    },
    {
      "cell_type": "code",
      "source": [
        "for ent in doc1.ents:\n",
        "    print (ent.text, ent.label_)"
      ],
      "metadata": {
        "id": "LfK0EBhJ8iRp"
      },
      "execution_count": null,
      "outputs": []
    },
    {
      "cell_type": "code",
      "source": [
        "displacy.render(doc1, style=\"ent\")"
      ],
      "metadata": {
        "id": "IX1KZjr08ugY"
      },
      "execution_count": null,
      "outputs": []
    },
    {
      "cell_type": "code",
      "source": [
        "with open (data_folder+\"/\"+files[1], \"r\") as f:\n",
        "    text = f.read()\n",
        "\n",
        "doc2 = nlp(text)\n"
      ],
      "metadata": {
        "id": "i4i4FLz5Cqa_"
      },
      "execution_count": 38,
      "outputs": []
    },
    {
      "cell_type": "markdown",
      "source": [
        "Doc Similarity"
      ],
      "metadata": {
        "id": "esRIf8xmCz5-"
      }
    },
    {
      "cell_type": "code",
      "source": [
        "print( \"doc1 <-> doc2 = \", doc1.similarity(doc2))"
      ],
      "metadata": {
        "colab": {
          "base_uri": "https://localhost:8080/"
        },
        "id": "F-vp5rCUC2Hh",
        "outputId": "ca68e3b1-a385-4f2a-9dc0-55ba12e895b8"
      },
      "execution_count": 40,
      "outputs": [
        {
          "output_type": "stream",
          "name": "stdout",
          "text": [
            "doc1 <-> doc2 =  0.9946947320199543\n"
          ]
        }
      ]
    },
    {
      "cell_type": "markdown",
      "source": [
        "Word Similarity"
      ],
      "metadata": {
        "id": "9BO1qXqLEHHx"
      }
    },
    {
      "cell_type": "code",
      "source": [
        "word1 = doc1[58:62]\n",
        "word2 = doc2[55:57]\n",
        "word1, word2"
      ],
      "metadata": {
        "colab": {
          "base_uri": "https://localhost:8080/"
        },
        "id": "egNB8ljlDAe_",
        "outputId": "c03039a5-4157-4d57-908f-be33b01b282a"
      },
      "execution_count": 53,
      "outputs": [
        {
          "output_type": "execute_result",
          "data": {
            "text/plain": [
              "(Allergies:\n",
              " Vicodin, : MEDICINE)"
            ]
          },
          "metadata": {},
          "execution_count": 53
        }
      ]
    },
    {
      "cell_type": "code",
      "source": [
        "print( \"word1 <-> word2 = \", word1.similarity(word2))"
      ],
      "metadata": {
        "colab": {
          "base_uri": "https://localhost:8080/"
        },
        "id": "aIUr60y5DL0P",
        "outputId": "ad7d873b-f3ed-4a09-e16c-fe4d787a3bd2"
      },
      "execution_count": 54,
      "outputs": [
        {
          "output_type": "stream",
          "name": "stdout",
          "text": [
            "word1 <-> word2 =  0.7172684073448181\n"
          ]
        }
      ]
    },
    {
      "cell_type": "code",
      "source": [
        ""
      ],
      "metadata": {
        "id": "mZ9V4lavHYFs"
      },
      "execution_count": null,
      "outputs": []
    }
  ]
}